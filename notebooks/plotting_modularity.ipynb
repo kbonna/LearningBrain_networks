{
 "cells": [
  {
   "cell_type": "code",
   "execution_count": 2,
   "metadata": {},
   "outputs": [
    {
     "name": "stderr",
     "output_type": "stream",
     "text": [
      "── Attaching packages ─────────────────────────────────────── tidyverse 1.2.1 ──\n",
      "✔ ggplot2 3.0.0     ✔ purrr   0.2.5\n",
      "✔ tibble  1.4.2     ✔ dplyr   0.7.6\n",
      "✔ tidyr   0.8.1     ✔ stringr 1.3.1\n",
      "✔ readr   1.1.1     ✔ forcats 0.3.0\n",
      "── Conflicts ────────────────────────────────────────── tidyverse_conflicts() ──\n",
      "✖ dplyr::filter() masks stats::filter()\n",
      "✖ dplyr::lag()    masks stats::lag()\n",
      "R.matlab v3.6.1 (2016-10-19) successfully loaded. See ?R.matlab for help.\n",
      "\n",
      "Attaching package: ‘R.matlab’\n",
      "\n",
      "The following objects are masked from ‘package:base’:\n",
      "\n",
      "    getOption, isOpen\n",
      "\n"
     ]
    }
   ],
   "source": [
    "library(tidyverse)\n",
    "library(R.matlab)"
   ]
  },
  {
   "cell_type": "code",
   "execution_count": 43,
   "metadata": {},
   "outputs": [],
   "source": [
    "M <- readMat('/home/finc/Dropbox/Projects/LearningBrain/data/neuroimaging/modularity_results_conn.mat')"
   ]
  },
  {
   "cell_type": "code",
   "execution_count": 44,
   "metadata": {},
   "outputs": [
    {
     "data": {
      "text/html": [
       "<table>\n",
       "<tbody>\n",
       "\t<tr><td>1         </td><td>1         </td><td>1         </td><td>0.19347217</td></tr>\n",
       "\t<tr><td>1         </td><td>1         </td><td>2         </td><td>0.18409796</td></tr>\n",
       "\t<tr><td>1         </td><td>1         </td><td>3         </td><td>0.17745661</td></tr>\n",
       "\t<tr><td>1         </td><td>2         </td><td>1         </td><td>0.23793698</td></tr>\n",
       "\t<tr><td>1         </td><td>2         </td><td>2         </td><td>0.19120596</td></tr>\n",
       "\t<tr><td>1         </td><td>2         </td><td>3         </td><td>0.26280531</td></tr>\n",
       "\t<tr><td>1         </td><td>3         </td><td>1         </td><td>0.19320579</td></tr>\n",
       "\t<tr><td>1         </td><td>3         </td><td>2         </td><td>0.11097321</td></tr>\n",
       "\t<tr><td>1         </td><td>3         </td><td>3         </td><td>0.16226106</td></tr>\n",
       "\t<tr><td>1         </td><td>4         </td><td>1         </td><td>0.17796214</td></tr>\n",
       "\t<tr><td>1         </td><td>4         </td><td>2         </td><td>0.25300724</td></tr>\n",
       "\t<tr><td>1         </td><td>4         </td><td>3         </td><td>0.26244147</td></tr>\n",
       "\t<tr><td>2         </td><td>1         </td><td>1         </td><td>0.44824310</td></tr>\n",
       "\t<tr><td>2         </td><td>1         </td><td>2         </td><td>0.18677526</td></tr>\n",
       "\t<tr><td>2         </td><td>1         </td><td>3         </td><td>0.26307686</td></tr>\n",
       "\t<tr><td>2         </td><td>2         </td><td>1         </td><td>0.38527350</td></tr>\n",
       "\t<tr><td>2         </td><td>2         </td><td>2         </td><td>0.33457715</td></tr>\n",
       "\t<tr><td>2         </td><td>2         </td><td>3         </td><td>0.32453872</td></tr>\n",
       "\t<tr><td>2         </td><td>3         </td><td>1         </td><td>0.40638860</td></tr>\n",
       "\t<tr><td>2         </td><td>3         </td><td>2         </td><td>0.30895625</td></tr>\n",
       "\t<tr><td>2         </td><td>3         </td><td>3         </td><td>0.32552269</td></tr>\n",
       "\t<tr><td>2         </td><td>4         </td><td>1         </td><td>0.31904894</td></tr>\n",
       "\t<tr><td>2         </td><td>4         </td><td>2         </td><td>0.26152477</td></tr>\n",
       "\t<tr><td>2         </td><td>4         </td><td>3         </td><td>0.30769126</td></tr>\n",
       "\t<tr><td>3         </td><td>1         </td><td>1         </td><td>0.24984912</td></tr>\n",
       "\t<tr><td>3         </td><td>1         </td><td>2         </td><td>0.12527446</td></tr>\n",
       "\t<tr><td>3         </td><td>1         </td><td>3         </td><td>0.09868011</td></tr>\n",
       "\t<tr><td>3         </td><td>2         </td><td>1         </td><td>0.29373428</td></tr>\n",
       "\t<tr><td>3         </td><td>2         </td><td>2         </td><td>0.24047171</td></tr>\n",
       "\t<tr><td>3         </td><td>2         </td><td>3         </td><td>0.19549999</td></tr>\n",
       "\t<tr><td>⋮</td><td>⋮</td><td>⋮</td><td>⋮</td></tr>\n",
       "\t<tr><td>44       </td><td>3        </td><td>1        </td><td>0.3732365</td></tr>\n",
       "\t<tr><td>44       </td><td>3        </td><td>2        </td><td>0.2730209</td></tr>\n",
       "\t<tr><td>44       </td><td>3        </td><td>3        </td><td>0.3504871</td></tr>\n",
       "\t<tr><td>44       </td><td>4        </td><td>1        </td><td>0.3785515</td></tr>\n",
       "\t<tr><td>44       </td><td>4        </td><td>2        </td><td>0.2605951</td></tr>\n",
       "\t<tr><td>44       </td><td>4        </td><td>3        </td><td>0.2828856</td></tr>\n",
       "\t<tr><td>45       </td><td>1        </td><td>1        </td><td>0.2750526</td></tr>\n",
       "\t<tr><td>45       </td><td>1        </td><td>2        </td><td>0.2888284</td></tr>\n",
       "\t<tr><td>45       </td><td>1        </td><td>3        </td><td>0.2885769</td></tr>\n",
       "\t<tr><td>45       </td><td>2        </td><td>1        </td><td>0.2994665</td></tr>\n",
       "\t<tr><td>45       </td><td>2        </td><td>2        </td><td>0.1757753</td></tr>\n",
       "\t<tr><td>45       </td><td>2        </td><td>3        </td><td>0.1873514</td></tr>\n",
       "\t<tr><td>45       </td><td>3        </td><td>1        </td><td>0.3322337</td></tr>\n",
       "\t<tr><td>45       </td><td>3        </td><td>2        </td><td>0.2812600</td></tr>\n",
       "\t<tr><td>45       </td><td>3        </td><td>3        </td><td>0.2660604</td></tr>\n",
       "\t<tr><td>45       </td><td>4        </td><td>1        </td><td>0.2783522</td></tr>\n",
       "\t<tr><td>45       </td><td>4        </td><td>2        </td><td>0.2421293</td></tr>\n",
       "\t<tr><td>45       </td><td>4        </td><td>3        </td><td>0.2106030</td></tr>\n",
       "\t<tr><td>46       </td><td>1        </td><td>1        </td><td>0.3331489</td></tr>\n",
       "\t<tr><td>46       </td><td>1        </td><td>2        </td><td>0.2954860</td></tr>\n",
       "\t<tr><td>46       </td><td>1        </td><td>3        </td><td>0.3468312</td></tr>\n",
       "\t<tr><td>46       </td><td>2        </td><td>1        </td><td>0.4158940</td></tr>\n",
       "\t<tr><td>46       </td><td>2        </td><td>2        </td><td>0.3259472</td></tr>\n",
       "\t<tr><td>46       </td><td>2        </td><td>3        </td><td>0.2738419</td></tr>\n",
       "\t<tr><td>46       </td><td>3        </td><td>1        </td><td>0.3074997</td></tr>\n",
       "\t<tr><td>46       </td><td>3        </td><td>2        </td><td>0.2806818</td></tr>\n",
       "\t<tr><td>46       </td><td>3        </td><td>3        </td><td>0.2710368</td></tr>\n",
       "\t<tr><td>46       </td><td>4        </td><td>1        </td><td>0.3393388</td></tr>\n",
       "\t<tr><td>46       </td><td>4        </td><td>2        </td><td>0.3450596</td></tr>\n",
       "\t<tr><td>46       </td><td>4        </td><td>3        </td><td>0.3404772</td></tr>\n",
       "</tbody>\n",
       "</table>\n"
      ],
      "text/latex": [
       "\\begin{tabular}{llll}\n",
       "\t 1          & 1          & 1          & 0.19347217\\\\\n",
       "\t 1          & 1          & 2          & 0.18409796\\\\\n",
       "\t 1          & 1          & 3          & 0.17745661\\\\\n",
       "\t 1          & 2          & 1          & 0.23793698\\\\\n",
       "\t 1          & 2          & 2          & 0.19120596\\\\\n",
       "\t 1          & 2          & 3          & 0.26280531\\\\\n",
       "\t 1          & 3          & 1          & 0.19320579\\\\\n",
       "\t 1          & 3          & 2          & 0.11097321\\\\\n",
       "\t 1          & 3          & 3          & 0.16226106\\\\\n",
       "\t 1          & 4          & 1          & 0.17796214\\\\\n",
       "\t 1          & 4          & 2          & 0.25300724\\\\\n",
       "\t 1          & 4          & 3          & 0.26244147\\\\\n",
       "\t 2          & 1          & 1          & 0.44824310\\\\\n",
       "\t 2          & 1          & 2          & 0.18677526\\\\\n",
       "\t 2          & 1          & 3          & 0.26307686\\\\\n",
       "\t 2          & 2          & 1          & 0.38527350\\\\\n",
       "\t 2          & 2          & 2          & 0.33457715\\\\\n",
       "\t 2          & 2          & 3          & 0.32453872\\\\\n",
       "\t 2          & 3          & 1          & 0.40638860\\\\\n",
       "\t 2          & 3          & 2          & 0.30895625\\\\\n",
       "\t 2          & 3          & 3          & 0.32552269\\\\\n",
       "\t 2          & 4          & 1          & 0.31904894\\\\\n",
       "\t 2          & 4          & 2          & 0.26152477\\\\\n",
       "\t 2          & 4          & 3          & 0.30769126\\\\\n",
       "\t 3          & 1          & 1          & 0.24984912\\\\\n",
       "\t 3          & 1          & 2          & 0.12527446\\\\\n",
       "\t 3          & 1          & 3          & 0.09868011\\\\\n",
       "\t 3          & 2          & 1          & 0.29373428\\\\\n",
       "\t 3          & 2          & 2          & 0.24047171\\\\\n",
       "\t 3          & 2          & 3          & 0.19549999\\\\\n",
       "\t ⋮ & ⋮ & ⋮ & ⋮\\\\\n",
       "\t 44        & 3         & 1         & 0.3732365\\\\\n",
       "\t 44        & 3         & 2         & 0.2730209\\\\\n",
       "\t 44        & 3         & 3         & 0.3504871\\\\\n",
       "\t 44        & 4         & 1         & 0.3785515\\\\\n",
       "\t 44        & 4         & 2         & 0.2605951\\\\\n",
       "\t 44        & 4         & 3         & 0.2828856\\\\\n",
       "\t 45        & 1         & 1         & 0.2750526\\\\\n",
       "\t 45        & 1         & 2         & 0.2888284\\\\\n",
       "\t 45        & 1         & 3         & 0.2885769\\\\\n",
       "\t 45        & 2         & 1         & 0.2994665\\\\\n",
       "\t 45        & 2         & 2         & 0.1757753\\\\\n",
       "\t 45        & 2         & 3         & 0.1873514\\\\\n",
       "\t 45        & 3         & 1         & 0.3322337\\\\\n",
       "\t 45        & 3         & 2         & 0.2812600\\\\\n",
       "\t 45        & 3         & 3         & 0.2660604\\\\\n",
       "\t 45        & 4         & 1         & 0.2783522\\\\\n",
       "\t 45        & 4         & 2         & 0.2421293\\\\\n",
       "\t 45        & 4         & 3         & 0.2106030\\\\\n",
       "\t 46        & 1         & 1         & 0.3331489\\\\\n",
       "\t 46        & 1         & 2         & 0.2954860\\\\\n",
       "\t 46        & 1         & 3         & 0.3468312\\\\\n",
       "\t 46        & 2         & 1         & 0.4158940\\\\\n",
       "\t 46        & 2         & 2         & 0.3259472\\\\\n",
       "\t 46        & 2         & 3         & 0.2738419\\\\\n",
       "\t 46        & 3         & 1         & 0.3074997\\\\\n",
       "\t 46        & 3         & 2         & 0.2806818\\\\\n",
       "\t 46        & 3         & 3         & 0.2710368\\\\\n",
       "\t 46        & 4         & 1         & 0.3393388\\\\\n",
       "\t 46        & 4         & 2         & 0.3450596\\\\\n",
       "\t 46        & 4         & 3         & 0.3404772\\\\\n",
       "\\end{tabular}\n"
      ],
      "text/markdown": [
       "\n",
       "| 1          | 1          | 1          | 0.19347217 | \n",
       "| 1          | 1          | 2          | 0.18409796 | \n",
       "| 1          | 1          | 3          | 0.17745661 | \n",
       "| 1          | 2          | 1          | 0.23793698 | \n",
       "| 1          | 2          | 2          | 0.19120596 | \n",
       "| 1          | 2          | 3          | 0.26280531 | \n",
       "| 1          | 3          | 1          | 0.19320579 | \n",
       "| 1          | 3          | 2          | 0.11097321 | \n",
       "| 1          | 3          | 3          | 0.16226106 | \n",
       "| 1          | 4          | 1          | 0.17796214 | \n",
       "| 1          | 4          | 2          | 0.25300724 | \n",
       "| 1          | 4          | 3          | 0.26244147 | \n",
       "| 2          | 1          | 1          | 0.44824310 | \n",
       "| 2          | 1          | 2          | 0.18677526 | \n",
       "| 2          | 1          | 3          | 0.26307686 | \n",
       "| 2          | 2          | 1          | 0.38527350 | \n",
       "| 2          | 2          | 2          | 0.33457715 | \n",
       "| 2          | 2          | 3          | 0.32453872 | \n",
       "| 2          | 3          | 1          | 0.40638860 | \n",
       "| 2          | 3          | 2          | 0.30895625 | \n",
       "| 2          | 3          | 3          | 0.32552269 | \n",
       "| 2          | 4          | 1          | 0.31904894 | \n",
       "| 2          | 4          | 2          | 0.26152477 | \n",
       "| 2          | 4          | 3          | 0.30769126 | \n",
       "| 3          | 1          | 1          | 0.24984912 | \n",
       "| 3          | 1          | 2          | 0.12527446 | \n",
       "| 3          | 1          | 3          | 0.09868011 | \n",
       "| 3          | 2          | 1          | 0.29373428 | \n",
       "| 3          | 2          | 2          | 0.24047171 | \n",
       "| 3          | 2          | 3          | 0.19549999 | \n",
       "| ⋮ | ⋮ | ⋮ | ⋮ | \n",
       "| 44        | 3         | 1         | 0.3732365 | \n",
       "| 44        | 3         | 2         | 0.2730209 | \n",
       "| 44        | 3         | 3         | 0.3504871 | \n",
       "| 44        | 4         | 1         | 0.3785515 | \n",
       "| 44        | 4         | 2         | 0.2605951 | \n",
       "| 44        | 4         | 3         | 0.2828856 | \n",
       "| 45        | 1         | 1         | 0.2750526 | \n",
       "| 45        | 1         | 2         | 0.2888284 | \n",
       "| 45        | 1         | 3         | 0.2885769 | \n",
       "| 45        | 2         | 1         | 0.2994665 | \n",
       "| 45        | 2         | 2         | 0.1757753 | \n",
       "| 45        | 2         | 3         | 0.1873514 | \n",
       "| 45        | 3         | 1         | 0.3322337 | \n",
       "| 45        | 3         | 2         | 0.2812600 | \n",
       "| 45        | 3         | 3         | 0.2660604 | \n",
       "| 45        | 4         | 1         | 0.2783522 | \n",
       "| 45        | 4         | 2         | 0.2421293 | \n",
       "| 45        | 4         | 3         | 0.2106030 | \n",
       "| 46        | 1         | 1         | 0.3331489 | \n",
       "| 46        | 1         | 2         | 0.2954860 | \n",
       "| 46        | 1         | 3         | 0.3468312 | \n",
       "| 46        | 2         | 1         | 0.4158940 | \n",
       "| 46        | 2         | 2         | 0.3259472 | \n",
       "| 46        | 2         | 3         | 0.2738419 | \n",
       "| 46        | 3         | 1         | 0.3074997 | \n",
       "| 46        | 3         | 2         | 0.2806818 | \n",
       "| 46        | 3         | 3         | 0.2710368 | \n",
       "| 46        | 4         | 1         | 0.3393388 | \n",
       "| 46        | 4         | 2         | 0.3450596 | \n",
       "| 46        | 4         | 3         | 0.3404772 | \n",
       "\n",
       "\n"
      ],
      "text/plain": [
       "      [,1] [,2] [,3] [,4]      \n",
       " [1,] 1    1    1    0.19347217\n",
       " [2,] 1    1    2    0.18409796\n",
       " [3,] 1    1    3    0.17745661\n",
       " [4,] 1    2    1    0.23793698\n",
       " [5,] 1    2    2    0.19120596\n",
       " [6,] 1    2    3    0.26280531\n",
       " [7,] 1    3    1    0.19320579\n",
       " [8,] 1    3    2    0.11097321\n",
       " [9,] 1    3    3    0.16226106\n",
       "[10,] 1    4    1    0.17796214\n",
       "[11,] 1    4    2    0.25300724\n",
       "[12,] 1    4    3    0.26244147\n",
       "[13,] 2    1    1    0.44824310\n",
       "[14,] 2    1    2    0.18677526\n",
       "[15,] 2    1    3    0.26307686\n",
       "[16,] 2    2    1    0.38527350\n",
       "[17,] 2    2    2    0.33457715\n",
       "[18,] 2    2    3    0.32453872\n",
       "[19,] 2    3    1    0.40638860\n",
       "[20,] 2    3    2    0.30895625\n",
       "[21,] 2    3    3    0.32552269\n",
       "[22,] 2    4    1    0.31904894\n",
       "[23,] 2    4    2    0.26152477\n",
       "[24,] 2    4    3    0.30769126\n",
       "[25,] 3    1    1    0.24984912\n",
       "[26,] 3    1    2    0.12527446\n",
       "[27,] 3    1    3    0.09868011\n",
       "[28,] 3    2    1    0.29373428\n",
       "[29,] 3    2    2    0.24047171\n",
       "[30,] 3    2    3    0.19549999\n",
       "[31,] ⋮    ⋮    ⋮    ⋮         \n",
       "[32,] 44   3    1    0.3732365 \n",
       "[33,] 44   3    2    0.2730209 \n",
       "[34,] 44   3    3    0.3504871 \n",
       "[35,] 44   4    1    0.3785515 \n",
       "[36,] 44   4    2    0.2605951 \n",
       "[37,] 44   4    3    0.2828856 \n",
       "[38,] 45   1    1    0.2750526 \n",
       "[39,] 45   1    2    0.2888284 \n",
       "[40,] 45   1    3    0.2885769 \n",
       "[41,] 45   2    1    0.2994665 \n",
       "[42,] 45   2    2    0.1757753 \n",
       "[43,] 45   2    3    0.1873514 \n",
       "[44,] 45   3    1    0.3322337 \n",
       "[45,] 45   3    2    0.2812600 \n",
       "[46,] 45   3    3    0.2660604 \n",
       "[47,] 45   4    1    0.2783522 \n",
       "[48,] 45   4    2    0.2421293 \n",
       "[49,] 45   4    3    0.2106030 \n",
       "[50,] 46   1    1    0.3331489 \n",
       "[51,] 46   1    2    0.2954860 \n",
       "[52,] 46   1    3    0.3468312 \n",
       "[53,] 46   2    1    0.4158940 \n",
       "[54,] 46   2    2    0.3259472 \n",
       "[55,] 46   2    3    0.2738419 \n",
       "[56,] 46   3    1    0.3074997 \n",
       "[57,] 46   3    2    0.2806818 \n",
       "[58,] 46   3    3    0.2710368 \n",
       "[59,] 46   4    1    0.3393388 \n",
       "[60,] 46   4    2    0.3450596 \n",
       "[61,] 46   4    3    0.3404772 "
      ]
     },
     "metadata": {},
     "output_type": "display_data"
    }
   ],
   "source": [
    "M <- M$M\n",
    "M"
   ]
  },
  {
   "cell_type": "code",
   "execution_count": 45,
   "metadata": {},
   "outputs": [],
   "source": [
    "col = c('sub', 'ses', 'task', 'Q')\n",
    "\n",
    "Q = as.data.frame(M)\n",
    "names(Q) <- col\n",
    "\n",
    "\n"
   ]
  },
  {
   "cell_type": "code",
   "execution_count": 46,
   "metadata": {},
   "outputs": [
    {
     "data": {
      "text/html": [
       "<table>\n",
       "<thead><tr><th></th><th scope=col>sub</th><th scope=col>group</th><th scope=col>no</th></tr></thead>\n",
       "<tbody>\n",
       "\t<tr><th scope=row>1</th><td>sub-01      </td><td>Control     </td><td>1           </td></tr>\n",
       "\t<tr><th scope=row>2</th><td>sub-02      </td><td>Control     </td><td>2           </td></tr>\n",
       "\t<tr><th scope=row>4</th><td>sub-04      </td><td>Control     </td><td>3           </td></tr>\n",
       "\t<tr><th scope=row>5</th><td>sub-05      </td><td>Experimental</td><td>4           </td></tr>\n",
       "\t<tr><th scope=row>6</th><td>sub-06      </td><td>Experimental</td><td>5           </td></tr>\n",
       "\t<tr><th scope=row>7</th><td>sub-07      </td><td>Experimental</td><td>6           </td></tr>\n",
       "</tbody>\n",
       "</table>\n"
      ],
      "text/latex": [
       "\\begin{tabular}{r|lll}\n",
       "  & sub & group & no\\\\\n",
       "\\hline\n",
       "\t1 & sub-01       & Control      & 1           \\\\\n",
       "\t2 & sub-02       & Control      & 2           \\\\\n",
       "\t4 & sub-04       & Control      & 3           \\\\\n",
       "\t5 & sub-05       & Experimental & 4           \\\\\n",
       "\t6 & sub-06       & Experimental & 5           \\\\\n",
       "\t7 & sub-07       & Experimental & 6           \\\\\n",
       "\\end{tabular}\n"
      ],
      "text/markdown": [
       "\n",
       "| <!--/--> | sub | group | no | \n",
       "|---|---|---|---|---|---|\n",
       "| 1 | sub-01       | Control      | 1            | \n",
       "| 2 | sub-02       | Control      | 2            | \n",
       "| 4 | sub-04       | Control      | 3            | \n",
       "| 5 | sub-05       | Experimental | 4            | \n",
       "| 6 | sub-06       | Experimental | 5            | \n",
       "| 7 | sub-07       | Experimental | 6            | \n",
       "\n",
       "\n"
      ],
      "text/plain": [
       "  sub    group        no\n",
       "1 sub-01 Control      1 \n",
       "2 sub-02 Control      2 \n",
       "4 sub-04 Control      3 \n",
       "5 sub-05 Experimental 4 \n",
       "6 sub-06 Experimental 5 \n",
       "7 sub-07 Experimental 6 "
      ]
     },
     "metadata": {},
     "output_type": "display_data"
    }
   ],
   "source": [
    "# Selecting subjects which finished the study\n",
    "\n",
    "groups = read.csv('/home/finc/Dropbox/Projects/LearningBrain/github//LearningBrain_networks/data/behavioral/group_assignment.csv')\n",
    "groups = na.omit(groups)\n",
    "\n",
    "groups$no <- c(1:46)\n",
    "\n",
    "head(groups)"
   ]
  },
  {
   "cell_type": "code",
   "execution_count": 47,
   "metadata": {},
   "outputs": [],
   "source": [
    "names(Q)[1] <- 'no'"
   ]
  },
  {
   "cell_type": "code",
   "execution_count": 48,
   "metadata": {},
   "outputs": [
    {
     "name": "stderr",
     "output_type": "stream",
     "text": [
      "Joining, by = \"no\"\n"
     ]
    }
   ],
   "source": [
    "modu <- left_join(groups, Q)\n",
    "\n",
    "modu$ses <- as.factor(modu$ses)"
   ]
  },
  {
   "cell_type": "code",
   "execution_count": 51,
   "metadata": {},
   "outputs": [
    {
     "data": {},
     "metadata": {},
     "output_type": "display_data"
    },
    {
     "data": {
      "image/png": "[encoded data removed]",
      "text/plain": [
       "plot without title"
      ]
     },
     "metadata": {},
     "output_type": "display_data"
    }
   ],
   "source": [
    "modu %>% \n",
    "    filter(!(sub %in% c('sub-13', 'sub-21', 'sub-23', 'sub-50'))) %>% filter(task == '2') %>%\n",
    "    ggplot(aes(ses, Q, fill = factor(group))) + geom_boxplot()"
   ]
  },
  {
   "cell_type": "code",
   "execution_count": 10,
   "metadata": {},
   "outputs": [],
   "source": [
    "performance <- read.csv('/home/finc/Dropbox/Projects/LearningBrain/data/behavioral/LB_training_summary.csv')"
   ]
  },
  {
   "cell_type": "code",
   "execution_count": 12,
   "metadata": {},
   "outputs": [
    {
     "name": "stderr",
     "output_type": "stream",
     "text": [
      "Joining, by = \"sub\"\n",
      "Warning message:\n",
      "“Column `sub` joining factors with different levels, coercing to character vector”"
     ]
    }
   ],
   "source": [
    "all <- left_join(performance, modu)"
   ]
  },
  {
   "cell_type": "code",
   "execution_count": 40,
   "metadata": {},
   "outputs": [],
   "source": [
    "x = all %>% filter(!(sub %in% c('sub-13', 'sub-21', 'sub-23', 'sub-50')))"
   ]
  },
  {
   "cell_type": "code",
   "execution_count": 41,
   "metadata": {},
   "outputs": [
    {
     "data": {
      "text/html": [
       "<table>\n",
       "<thead><tr><th scope=col>sub</th><th scope=col>nback_mean_estimate</th><th scope=col>nback_max_estimate</th><th scope=col>nback_baseline</th><th scope=col>nback_max_level</th><th scope=col>group</th><th scope=col>no</th><th scope=col>ses</th><th scope=col>task</th><th scope=col>Q</th></tr></thead>\n",
       "<tbody>\n",
       "\t<tr><td>sub-05      </td><td>0.08441692  </td><td>0.1186791   </td><td>2.05        </td><td>6           </td><td>Experimental</td><td>4           </td><td>1           </td><td>1           </td><td>0.4060722   </td></tr>\n",
       "\t<tr><td>sub-05      </td><td>0.08441692  </td><td>0.1186791   </td><td>2.05        </td><td>6           </td><td>Experimental</td><td>4           </td><td>1           </td><td>2           </td><td>0.2733240   </td></tr>\n",
       "\t<tr><td>sub-05      </td><td>0.08441692  </td><td>0.1186791   </td><td>2.05        </td><td>6           </td><td>Experimental</td><td>4           </td><td>1           </td><td>3           </td><td>0.2651021   </td></tr>\n",
       "\t<tr><td>sub-05      </td><td>0.08441692  </td><td>0.1186791   </td><td>2.05        </td><td>6           </td><td>Experimental</td><td>4           </td><td>2           </td><td>1           </td><td>0.5414914   </td></tr>\n",
       "\t<tr><td>sub-05      </td><td>0.08441692  </td><td>0.1186791   </td><td>2.05        </td><td>6           </td><td>Experimental</td><td>4           </td><td>2           </td><td>2           </td><td>0.2693884   </td></tr>\n",
       "\t<tr><td>sub-05      </td><td>0.08441692  </td><td>0.1186791   </td><td>2.05        </td><td>6           </td><td>Experimental</td><td>4           </td><td>2           </td><td>3           </td><td>0.2559088   </td></tr>\n",
       "</tbody>\n",
       "</table>\n"
      ],
      "text/latex": [
       "\\begin{tabular}{r|llllllllll}\n",
       " sub & nback\\_mean\\_estimate & nback\\_max\\_estimate & nback\\_baseline & nback\\_max\\_level & group & no & ses & task & Q\\\\\n",
       "\\hline\n",
       "\t sub-05       & 0.08441692   & 0.1186791    & 2.05         & 6            & Experimental & 4            & 1            & 1            & 0.4060722   \\\\\n",
       "\t sub-05       & 0.08441692   & 0.1186791    & 2.05         & 6            & Experimental & 4            & 1            & 2            & 0.2733240   \\\\\n",
       "\t sub-05       & 0.08441692   & 0.1186791    & 2.05         & 6            & Experimental & 4            & 1            & 3            & 0.2651021   \\\\\n",
       "\t sub-05       & 0.08441692   & 0.1186791    & 2.05         & 6            & Experimental & 4            & 2            & 1            & 0.5414914   \\\\\n",
       "\t sub-05       & 0.08441692   & 0.1186791    & 2.05         & 6            & Experimental & 4            & 2            & 2            & 0.2693884   \\\\\n",
       "\t sub-05       & 0.08441692   & 0.1186791    & 2.05         & 6            & Experimental & 4            & 2            & 3            & 0.2559088   \\\\\n",
       "\\end{tabular}\n"
      ],
      "text/markdown": [
       "\n",
       "sub | nback_mean_estimate | nback_max_estimate | nback_baseline | nback_max_level | group | no | ses | task | Q | \n",
       "|---|---|---|---|---|---|\n",
       "| sub-05       | 0.08441692   | 0.1186791    | 2.05         | 6            | Experimental | 4            | 1            | 1            | 0.4060722    | \n",
       "| sub-05       | 0.08441692   | 0.1186791    | 2.05         | 6            | Experimental | 4            | 1            | 2            | 0.2733240    | \n",
       "| sub-05       | 0.08441692   | 0.1186791    | 2.05         | 6            | Experimental | 4            | 1            | 3            | 0.2651021    | \n",
       "| sub-05       | 0.08441692   | 0.1186791    | 2.05         | 6            | Experimental | 4            | 2            | 1            | 0.5414914    | \n",
       "| sub-05       | 0.08441692   | 0.1186791    | 2.05         | 6            | Experimental | 4            | 2            | 2            | 0.2693884    | \n",
       "| sub-05       | 0.08441692   | 0.1186791    | 2.05         | 6            | Experimental | 4            | 2            | 3            | 0.2559088    | \n",
       "\n",
       "\n"
      ],
      "text/plain": [
       "  sub    nback_mean_estimate nback_max_estimate nback_baseline nback_max_level\n",
       "1 sub-05 0.08441692          0.1186791          2.05           6              \n",
       "2 sub-05 0.08441692          0.1186791          2.05           6              \n",
       "3 sub-05 0.08441692          0.1186791          2.05           6              \n",
       "4 sub-05 0.08441692          0.1186791          2.05           6              \n",
       "5 sub-05 0.08441692          0.1186791          2.05           6              \n",
       "6 sub-05 0.08441692          0.1186791          2.05           6              \n",
       "  group        no ses task Q        \n",
       "1 Experimental 4  1   1    0.4060722\n",
       "2 Experimental 4  1   2    0.2733240\n",
       "3 Experimental 4  1   3    0.2651021\n",
       "4 Experimental 4  2   1    0.5414914\n",
       "5 Experimental 4  2   2    0.2693884\n",
       "6 Experimental 4  2   3    0.2559088"
      ]
     },
     "metadata": {},
     "output_type": "display_data"
    }
   ],
   "source": [
    "head(all)"
   ]
  },
  {
   "cell_type": "code",
   "execution_count": 38,
   "metadata": {},
   "outputs": [],
   "source": [
    "B <- x %>% \n",
    "    filter(!(sub %in% c('sub-13', 'sub-21', 'sub-23', 'sub-50'))) %>% filter(group == 'Experimental') %>% filter(task == \"1\") %>% filter(ses == 4)"
   ]
  },
  {
   "cell_type": "code",
   "execution_count": 39,
   "metadata": {},
   "outputs": [
    {
     "data": {},
     "metadata": {},
     "output_type": "display_data"
    },
    {
     "data": {
      "image/png": "[encoded data removed]",
      "text/plain": [
       "plot without title"
      ]
     },
     "metadata": {},
     "output_type": "display_data"
    }
   ],
   "source": [
    "B %>% ggplot(aes(nback_mean_estimate, Q)) + geom_point() + geom_smooth(method = 'lm')"
   ]
  },
  {
   "cell_type": "code",
   "execution_count": 37,
   "metadata": {},
   "outputs": [
    {
     "data": {
      "text/plain": [
       "\n",
       "\tPearson's product-moment correlation\n",
       "\n",
       "data:  B$nback_mean_estimate and B$Q\n",
       "t = -2.5723, df = 19, p-value = 0.01865\n",
       "alternative hypothesis: true correlation is not equal to 0\n",
       "95 percent confidence interval:\n",
       " -0.77080542 -0.09805723\n",
       "sample estimates:\n",
       "       cor \n",
       "-0.5082306 \n"
      ]
     },
     "metadata": {},
     "output_type": "display_data"
    }
   ],
   "source": [
    "cor.test(B$nback_mean_estimate, B$Q)"
   ]
  }
 ],
 "metadata": {
  "kernelspec": {
   "display_name": "R",
   "language": "R",
   "name": "ir"
  },
  "language_info": {
   "codemirror_mode": "r",
   "file_extension": ".r",
   "mimetype": "text/x-r-source",
   "name": "R",
   "pygments_lexer": "r",
   "version": "3.4.4"
  }
 },
 "nbformat": 4,
 "nbformat_minor": 2
}
