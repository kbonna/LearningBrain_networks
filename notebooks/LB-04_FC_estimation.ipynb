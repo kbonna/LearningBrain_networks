{
 "cells": [
  {
   "cell_type": "markdown",
   "metadata": {},
   "source": [
    "Connectivity estimation\n",
    "================================="
   ]
  },
  {
   "cell_type": "markdown",
   "metadata": {},
   "source": [
    "Step 1:  Loading libraries\n",
    "--------------------------------"
   ]
  },
  {
   "cell_type": "code",
   "execution_count": 2,
   "metadata": {},
   "outputs": [
    {
     "name": "stderr",
     "output_type": "stream",
     "text": [
      "/home/finc/anaconda/lib/python3.6/site-packages/h5py/__init__.py:34: FutureWarning: Conversion of the second argument of issubdtype from `float` to `np.floating` is deprecated. In future, it will be treated as `np.float64 == np.dtype(float).type`.\n",
      "  from ._conv import register_converters as _register_converters\n"
     ]
    }
   ],
   "source": [
    "%reset -f\n",
    "%matplotlib inline\n",
    "\n",
    "import os\n",
    "\n",
    "import pandas as pd\n",
    "import numpy as np \n",
    "import matplotlib.pyplot as plt \n",
    "\n",
    "from nilearn import datasets, plotting, input_data, signal  # for fetching atlas\n",
    "\n",
    "from nilearn.input_data import NiftiLabelsMasker\n",
    "from nilearn.connectome import ConnectivityMeasure\n",
    "from nistats.reporting import plot_design_matrix\n",
    "from nistats.design_matrix import make_design_matrix\n",
    "\n",
    "import seaborn as sns\n",
    "sns.reset_orig()\n",
    "\n",
    "from fctools import denoise, stats"
   ]
  },
  {
   "cell_type": "markdown",
   "metadata": {},
   "source": [
    "Step 2:  Design specification\n",
    "--------------------------------"
   ]
  },
  {
   "cell_type": "code",
   "execution_count": 3,
   "metadata": {},
   "outputs": [
    {
     "name": "stderr",
     "output_type": "stream",
     "text": [
      "/home/finc/anaconda/lib/python3.6/site-packages/nistats/utils.py:182: UserWarning: Matrix is singular at working precision, regularizing...\n",
      "  warn('Matrix is singular at working precision, regularizing...')\n"
     ]
    }
   ],
   "source": [
    "t_r = 2\n",
    "n_scans = 340\n",
    "\n",
    "onsets_dir = '/home/finc/Dropbox/Projects/LearningBrain/github/LearningBrain_networks/support/onsets_dualnback.csv'\n",
    "events = pd.read_csv(onsets_dir)\n",
    "frame_times = np.arange(n_scans) * t_r\n",
    "\n",
    "#------ step 1\n",
    "box = make_design_matrix(frame_times, events, hrf_model = None)\n",
    "box = box.reset_index()\n",
    "\n",
    "# ----- step 2\n",
    "box_hrf = make_design_matrix(frame_times, events, hrf_model = 'glover')\n",
    "box_hrf  = box_hrf.reset_index()"
   ]
  },
  {
   "cell_type": "markdown",
   "metadata": {},
   "source": [
    "Loading data\n",
    "----------------------------------------------------\n"
   ]
  },
  {
   "cell_type": "code",
   "execution_count": 5,
   "metadata": {},
   "outputs": [],
   "source": [
    "data6 = np.load(top_dir + 'LearningBrain_dualnback_timeseries_acompcor_24par_008_25.npy')\n",
    "data10 = np.load(top_dir + 'LearningBrain_dualnback_timeseries_acompcor_24par_008_25_smoothed.npy')\n",
    "top_dir = '/home/finc/Dropbox/Projects/LearningBrain/data/neuroimaging/'"
   ]
  },
  {
   "cell_type": "markdown",
   "metadata": {},
   "source": [
    "Way 1: Calculating correlation matricices - weighting before FC estimation\n",
    "-----------------------------------------------------"
   ]
  },
  {
   "cell_type": "code",
   "execution_count": 30,
   "metadata": {},
   "outputs": [
    {
     "data": {
      "text/plain": [
       "(46, 4, 2, 264, 264)"
      ]
     },
     "execution_count": 30,
     "metadata": {},
     "output_type": "execute_result"
    }
   ],
   "source": [
    "from sklearn.covariance import EmpiricalCovariance\n",
    "data = data10\n",
    "\n",
    "sub_n = len(data[:, 0, 0, 0])\n",
    "ses_n = len(data[0, :, 0, 0])\n",
    "cond = ['1-back', '2-back']\n",
    "rois_n = len(data[0, 0, 0, :])\n",
    "\n",
    "\n",
    "correlation_matrices_wei = np.zeros((sub_n, ses_n, len(cond), rois_n, rois_n))\n",
    "\n",
    "\n",
    "for sub in range(sub_n):\n",
    "    for ses in range(ses_n):                 \n",
    "        correlation_measure = ConnectivityMeasure(cov_estimator=EmpiricalCovariance(store_precision=True, assume_centered=False), kind = 'correlation', discard_diagonal=True)\n",
    "        \n",
    "        for con in range(len(cond)):\n",
    "            rect_box_hrf = np.array([0 if elem < 0 else elem for elem in box_hrf[cond[con]]])\n",
    "            rect_nnz = rect_box_hrf[np.nonzero(rect_box_hrf)]\n",
    "                        \n",
    "            timeseries_dual = data[sub, ses, rect_box_hrf > 0, :]\n",
    "            timeseries_dual = (timeseries_dual.T * rect_nnz).T\n",
    "            \n",
    "            fc = correlation_measure.fit_transform([timeseries_dual])[0]\n",
    "            np.fill_diagonal(fc, 0)\n",
    "                        \n",
    "            correlation_matrices_wei[sub, ses, con, :, :] = np.arctanh(fc)\n",
    "            \n",
    "correlation_matrices_wei.shape\n"
   ]
  },
  {
   "cell_type": "markdown",
   "metadata": {},
   "source": [
    "Way 2: Weighted correlation - static connectivity\n",
    "---------------------------"
   ]
  },
  {
   "cell_type": "code",
   "execution_count": 10,
   "metadata": {},
   "outputs": [
    {
     "name": "stdout",
     "output_type": "stream",
     "text": [
      "Calculating correlations: sub 0\n"
     ]
    },
    {
     "data": {
      "text/plain": [
       "(46, 4, 2, 264, 264)"
      ]
     },
     "execution_count": 10,
     "metadata": {},
     "output_type": "execute_result"
    }
   ],
   "source": [
    "data = data6\n",
    "\n",
    "sub_n = len(data[:, 0, 0, 0])\n",
    "ses_n = len(data[0, :, 0, 0])\n",
    "cond = ['1-back', '2-back']\n",
    "rois_n = len(data[0, 0, 0, :])\n",
    "A = np.zeros((rois_n, rois_n))\n",
    "correlation_matrices_wei = np.zeros((sub_n, ses_n, len(cond), rois_n, rois_n))\n",
    "\n",
    "\n",
    "for sub in range(1):\n",
    "    print(f'Calculating correlations: sub {sub}')\n",
    "    for ses in range(ses_n):                 \n",
    "        #correlation_measure = ConnectivityMeasure(cov_estimator=EmpiricalCovariance(store_precision=True, assume_centered=False), kind = 'correlation', discard_diagonal=True)\n",
    "        \n",
    "        for con in range(len(cond)):\n",
    "            #--- zeroing negative values\n",
    "            rect_box_hrf = np.array([0 if elem < 0 else elem for elem in box_hrf[cond[con]]])\n",
    "            #--- concatenating nonzeros blocs\n",
    "            rect_nnz = rect_box_hrf[np.nonzero(rect_box_hrf)]\n",
    "            #--- filtering            \n",
    "            timeseries_dual = data[sub, ses, rect_box_hrf > 0, :]\n",
    "            #--- calculating weighted correlation coefficient\n",
    "            for i in range(rois_n):\n",
    "                for j in range(i):\n",
    "                    if i == j:\n",
    "                        continue\n",
    "                    else:\n",
    "                        A[i, j] = stats.corr_wei(timeseries_dual[:, i], timeseries_dual[:, j], rect_nnz)\n",
    "            \n",
    "            fc = A + A.T\n",
    "            correlation_matrices_wei[sub, ses, con, :, :] = np.arctanh(fc)\n",
    "            \n",
    "correlation_matrices_wei.shape"
   ]
  },
  {
   "cell_type": "markdown",
   "metadata": {},
   "source": [
    "Way 3: Weighted correlation - dynamic connectivity\n",
    "---------------------------"
   ]
  },
  {
   "cell_type": "code",
   "execution_count": 18,
   "metadata": {},
   "outputs": [
    {
     "data": {
      "text/plain": [
       "[<matplotlib.lines.Line2D at 0x7fdd54034c50>]"
      ]
     },
     "execution_count": 18,
     "metadata": {},
     "output_type": "execute_result"
    },
    {
     "data": {
      "image/png": "[encoded data removed]",
      "text/plain": [
       "<Figure size 432x288 with 1 Axes>"
      ]
     },
     "metadata": {},
     "output_type": "display_data"
    }
   ],
   "source": [
    "t_r = 2\n",
    "n_scans = 340\n",
    "\n",
    "onsets_dir = '/home/finc/Dropbox/Projects/LearningBrain/github/LearningBrain_networks/support/onsets_dualnback.csv'\n",
    "events = pd.read_csv(onsets_dir)\n",
    "frame_times = np.arange(n_scans) * t_r\n",
    "\n",
    "events = events[(events.trial_type == '1-back') | (events.trial_type == '2-back')].reset_index()\n",
    "events['trial_type'] = np.arange(20)\n",
    "\n",
    "#------ step 1\n",
    "box_hrf = make_design_matrix(frame_times, events, hrf_model = 'glover')\n",
    "box_hrf  = box_hrf.reset_index()\n",
    "plt.plot(box_hrf.iloc[:,5])"
   ]
  },
  {
   "cell_type": "code",
   "execution_count": 32,
   "metadata": {},
   "outputs": [
    {
     "name": "stdout",
     "output_type": "stream",
     "text": [
      "Calculating correlations: sub 0\n",
      "Calculating correlations: sub 1\n",
      "Calculating correlations: sub 2\n",
      "Calculating correlations: sub 3\n",
      "Calculating correlations: sub 4\n",
      "Calculating correlations: sub 5\n",
      "Calculating correlations: sub 6\n",
      "Calculating correlations: sub 7\n",
      "Calculating correlations: sub 8\n",
      "Calculating correlations: sub 9\n",
      "Calculating correlations: sub 10\n",
      "Calculating correlations: sub 11\n",
      "Calculating correlations: sub 12\n",
      "Calculating correlations: sub 13\n",
      "Calculating correlations: sub 14\n",
      "Calculating correlations: sub 15\n",
      "Calculating correlations: sub 16\n",
      "Calculating correlations: sub 17\n",
      "Calculating correlations: sub 18\n",
      "Calculating correlations: sub 19\n",
      "Calculating correlations: sub 20\n",
      "Calculating correlations: sub 21\n",
      "Calculating correlations: sub 22\n",
      "Calculating correlations: sub 23\n",
      "Calculating correlations: sub 24\n",
      "Calculating correlations: sub 25\n",
      "Calculating correlations: sub 26\n",
      "Calculating correlations: sub 27\n",
      "Calculating correlations: sub 28\n",
      "Calculating correlations: sub 29\n",
      "Calculating correlations: sub 30\n",
      "Calculating correlations: sub 31\n",
      "Calculating correlations: sub 32\n",
      "Calculating correlations: sub 33\n",
      "Calculating correlations: sub 34\n",
      "Calculating correlations: sub 35\n",
      "Calculating correlations: sub 36\n",
      "Calculating correlations: sub 37\n",
      "Calculating correlations: sub 38\n",
      "Calculating correlations: sub 39\n",
      "Calculating correlations: sub 40\n",
      "Calculating correlations: sub 41\n",
      "Calculating correlations: sub 42\n",
      "Calculating correlations: sub 43\n",
      "Calculating correlations: sub 44\n",
      "Calculating correlations: sub 45\n"
     ]
    },
    {
     "data": {
      "text/plain": [
       "(46, 4, 20, 264, 264)"
      ]
     },
     "execution_count": 32,
     "metadata": {},
     "output_type": "execute_result"
    }
   ],
   "source": [
    "data = np.load(f'{top_dir}')\n",
    "\n",
    "sub_n = len(data[:, 0, 0, 0])\n",
    "ses_n = len(data[0, :, 0, 0])\n",
    "cond = np.arange(0,20)\n",
    "rois_n = len(data[0, 0, 0, :])\n",
    "A = np.zeros((rois_n, rois_n))\n",
    "correlation_matrices_dyn_wei = np.zeros((sub_n, ses_n, len(cond), rois_n, rois_n))\n",
    "\n",
    "\n",
    "for sub in range(sub_n):\n",
    "    print(f'Calculating correlations: sub {sub}')\n",
    "    for ses in range(ses_n):                 \n",
    "        #correlation_measure = ConnectivityMeasure(cov_estimator=EmpiricalCovariance(store_precision=True, assume_centered=False), kind = 'correlation', discard_diagonal=True)\n",
    "        \n",
    "        for con in range(len(cond)):\n",
    "            #--- zeroing negative values\n",
    "            rect_box_hrf = np.array([0 if elem < 0 else elem for elem in box_hrf[cond[con]]])\n",
    "            #--- concatenating nonzeros blocs\n",
    "            rect_nnz = rect_box_hrf[np.nonzero(rect_box_hrf)]\n",
    "            #--- filtering            \n",
    "            timeseries_dual = data[sub, ses, rect_box_hrf > 0, :]\n",
    "            #--- calculating weighted correlation coefficient\n",
    "            for i in range(rois_n):\n",
    "                for j in range(i):\n",
    "                    if i == j:\n",
    "                        continue\n",
    "                    else:\n",
    "                        A[i, j] = stats.corr_wei(timeseries_dual[:, i], timeseries_dual[:, j], rect_nnz)\n",
    "            \n",
    "            fc = A + A.T\n",
    "            correlation_matrices_dyn_wei[sub, ses, con, :, :] = np.arctanh(fc)\n",
    "            \n",
    "correlation_matrices_dyn_wei.shape"
   ]
  },
  {
   "cell_type": "markdown",
   "metadata": {},
   "source": [
    "Calculating modularity\n",
    "-------------------------------"
   ]
  },
  {
   "cell_type": "code",
   "execution_count": 77,
   "metadata": {},
   "outputs": [],
   "source": [
    "sess = ['ses-1', 'ses-2', 'ses-3', 'ses-4']\n",
    "cond = ['1-back', '2-back']\n",
    "\n",
    "# Selecting subjects which finished the study\n",
    "groups = pd.read_csv('/home/finc/Dropbox/Projects/LearningBrain/github/LearningBrain_networks/data/behavioral/group_assignment.csv')\n",
    "\n",
    "trained = (groups.group == 'Experimental') | (groups.group == 'Control')\n",
    "trained_subs = groups[trained]['sub']\n",
    "trained_group = pd.Series.tolist(groups[trained]['group'])\n",
    "\n",
    "subs = pd.Series.tolist(trained_subs)\n",
    "\n",
    "dualnback_exclude = ['sub-13', 'sub-21', 'sub-23', 'sub-50'] # higly motion subjects in one of four sessions\n",
    "subs_incl = [x for x in subs if x not in dualnback_exclude]\n"
   ]
  },
  {
   "cell_type": "code",
   "execution_count": 78,
   "metadata": {},
   "outputs": [
    {
     "name": "stdout",
     "output_type": "stream",
     "text": [
      "Calculating modularity of subject sub-01\n"
     ]
    },
    {
     "name": "stderr",
     "output_type": "stream",
     "text": [
      "/home/finc/anaconda/lib/python3.6/site-packages/ipykernel_launcher.py:27: FutureWarning: Sorting because non-concatenation axis is not aligned. A future version\n",
      "of pandas will change to not sort by default.\n",
      "\n",
      "To accept the future behavior, pass 'sort=False'.\n",
      "\n",
      "To retain the current behavior and silence the warning, pass 'sort=True'.\n",
      "\n"
     ]
    },
    {
     "name": "stdout",
     "output_type": "stream",
     "text": [
      "Calculating modularity of subject sub-02\n",
      "Calculating modularity of subject sub-04\n",
      "Calculating modularity of subject sub-05\n",
      "Calculating modularity of subject sub-06\n",
      "Calculating modularity of subject sub-07\n",
      "Calculating modularity of subject sub-08\n",
      "Calculating modularity of subject sub-10\n",
      "Calculating modularity of subject sub-11\n",
      "Calculating modularity of subject sub-12\n",
      "Calculating modularity of subject sub-13\n",
      "Calculating modularity of subject sub-14\n",
      "Calculating modularity of subject sub-15\n",
      "Calculating modularity of subject sub-16\n",
      "Calculating modularity of subject sub-18\n",
      "Calculating modularity of subject sub-19\n",
      "Calculating modularity of subject sub-20\n",
      "Calculating modularity of subject sub-21\n",
      "Calculating modularity of subject sub-23\n",
      "Calculating modularity of subject sub-24\n",
      "Calculating modularity of subject sub-25\n",
      "Calculating modularity of subject sub-26\n",
      "Calculating modularity of subject sub-27\n",
      "Calculating modularity of subject sub-28\n",
      "Calculating modularity of subject sub-29\n",
      "Calculating modularity of subject sub-30\n",
      "Calculating modularity of subject sub-33\n",
      "Calculating modularity of subject sub-35\n",
      "Calculating modularity of subject sub-36\n",
      "Calculating modularity of subject sub-37\n",
      "Calculating modularity of subject sub-39\n",
      "Calculating modularity of subject sub-41\n",
      "Calculating modularity of subject sub-42\n",
      "Calculating modularity of subject sub-43\n",
      "Calculating modularity of subject sub-44\n",
      "Calculating modularity of subject sub-45\n",
      "Calculating modularity of subject sub-46\n",
      "Calculating modularity of subject sub-47\n",
      "Calculating modularity of subject sub-48\n",
      "Calculating modularity of subject sub-50\n",
      "Calculating modularity of subject sub-51\n",
      "Calculating modularity of subject sub-52\n",
      "Calculating modularity of subject sub-53\n",
      "Calculating modularity of subject sub-54\n",
      "Calculating modularity of subject sub-55\n",
      "Calculating modularity of subject sub-56\n"
     ]
    }
   ],
   "source": [
    "import bct\n",
    "\n",
    "Q_results = pd.DataFrame()\n",
    "gamma = 1\n",
    "n_rep = 10\n",
    "\n",
    "Q_results = pd.DataFrame(columns=['sub', 'group', 'ses', 'cond', 'Q'])\n",
    "for sub in range(n_sub):\n",
    "    print(f'Calculating modularity of subject {subs[sub]}')\n",
    "    for ses in range(n_ses):\n",
    "        for con in range(n_con):\n",
    "            #A = data0[sub, ses, con, :, :]\n",
    "            A = correlation_matrices_wei[sub, ses, con, :, :]\n",
    "            \n",
    "            cost_tot = np.mean(A[A != 0]) #--- mean of all weigths \n",
    "            cost_pos = np.mean(A[A > 0])  # --- mean of positive weights\n",
    "            cost_neg = np.mean(A[A < 0]) # --- mean of negative weights\n",
    "                        \n",
    "            [ci,Q] = bct.modularity_louvain_und_sign(A, gamma)\n",
    "            for i in range(n_rep):\n",
    "                [cit, Qt] = bct.modularity_louvain_und_sign(A, gamma)\n",
    "                if Qt > Q:\n",
    "                    Q = Qt\n",
    "                    ci = cit\n",
    "            result = pd.DataFrame([[subs[sub], trained_group[sub], sess[ses], cond[con], cost_tot, cost_pos, cost_neg, Q]], \n",
    "                                  columns=['sub', 'group', 'ses', 'cond', 'mean_FC', 'mean_FC+', 'meanFC-', 'Q'])\n",
    "            Q_results = pd.concat([Q_results, result], axis = 0)\n"
   ]
  },
  {
   "cell_type": "code",
   "execution_count": 50,
   "metadata": {},
   "outputs": [],
   "source": [
    "import scipy.io as sio\n",
    "\n",
    "sio.savemat(top_dir + 'LearningBrain_dFC_matrices_dualnback_wei.mat', {'correlation_matrices_dyn_wei': correlation_matrices_dyn_wei})\n"
   ]
  },
  {
   "cell_type": "code",
   "execution_count": 81,
   "metadata": {},
   "outputs": [],
   "source": [
    "Q_results_filtered = Q_results.loc[Q_results['sub'].isin(subs_incl)]"
   ]
  },
  {
   "cell_type": "code",
   "execution_count": 91,
   "metadata": {},
   "outputs": [
    {
     "data": {
      "text/plain": [
       "<seaborn.axisgrid.FacetGrid at 0x7fcfb4c41f28>"
      ]
     },
     "execution_count": 91,
     "metadata": {},
     "output_type": "execute_result"
    },
    {
     "data": {
      "image/png": "[encoded data removed]",
      "text/plain": [
       "<Figure size 833.6x360 with 2 Axes>"
      ]
     },
     "metadata": {},
     "output_type": "display_data"
    }
   ],
   "source": [
    "# nilearn conn style + smoothing\n",
    "sns.set(style=\"ticks\")\n",
    "sns.catplot(x = \"ses\", y = \"Q\", hue = \"group\", col = 'cond', data = Q_results_filtered, kind = \"box\")"
   ]
  },
  {
   "cell_type": "code",
   "execution_count": 92,
   "metadata": {},
   "outputs": [
    {
     "data": {
      "text/plain": [
       "<seaborn.axisgrid.FacetGrid at 0x7fcfb4824d68>"
      ]
     },
     "execution_count": 92,
     "metadata": {},
     "output_type": "execute_result"
    },
    {
     "data": {
      "image/png": "[encoded data removed]",
      "text/plain": [
       "<Figure size 833.6x360 with 2 Axes>"
      ]
     },
     "metadata": {},
     "output_type": "display_data"
    }
   ],
   "source": [
    "sns.catplot(x = \"ses\", y = \"mean_FC\", hue = \"group\", col = 'cond', data = Q_results_filtered, kind = \"box\")"
   ]
  }
 ],
 "metadata": {
  "kernelspec": {
   "display_name": "Python 3",
   "language": "python",
   "name": "python3"
  },
  "language_info": {
   "codemirror_mode": {
    "name": "ipython",
    "version": 3
   },
   "file_extension": ".py",
   "mimetype": "text/x-python",
   "name": "python",
   "nbconvert_exporter": "python",
   "pygments_lexer": "ipython3",
   "version": "3.6.3"
  }
 },
 "nbformat": 4,
 "nbformat_minor": 2
}
