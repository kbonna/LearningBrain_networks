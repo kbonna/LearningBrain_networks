{
 "cells": [
  {
   "cell_type": "code",
   "execution_count": 9,
   "metadata": {},
   "outputs": [],
   "source": [
    "library('tidyverse')\n",
    "library('ez')\n",
    "library('WRS2')"
   ]
  },
  {
   "cell_type": "code",
   "execution_count": 10,
   "metadata": {},
   "outputs": [],
   "source": [
    "dmn_recr = read.csv('/home/finc/Dropbox/Projects/LearningBrain/data/neuroimaging/dmn_recruit_new.csv')\n",
    "dmn_integ = read.csv('/home/finc/Dropbox/Projects/LearningBrain/data/neuroimaging/dmn_integr_new.csv')\n",
    "fpn_recr = read.csv('/home/finc/Dropbox/Projects/LearningBrain/data/neuroimaging/fpn_recruit_new.csv')\n"
   ]
  },
  {
   "cell_type": "code",
   "execution_count": 11,
   "metadata": {},
   "outputs": [],
   "source": [
    "dmn_recr_tidy = gather(dmn_recr, key = 'ses', 'DMN_recr', -sub, -group)\n",
    "dmn_integ_tidy = gather(dmn_integ, key = 'ses', 'DMN_integ', -sub, -group)\n",
    "fpn_recr_tidy = gather(fpn_recr, key = 'ses', 'FPN_recr', -sub, -group)\n"
   ]
  },
  {
   "cell_type": "code",
   "execution_count": 12,
   "metadata": {},
   "outputs": [
    {
     "name": "stderr",
     "output_type": "stream",
     "text": [
      "Joining, by = c(\"sub\", \"group\", \"ses\")\n",
      "Joining, by = c(\"sub\", \"group\", \"ses\")\n"
     ]
    }
   ],
   "source": [
    "dmn = left_join(dmn_integ_tidy, dmn_recr_tidy)\n",
    "dmn = left_join(dmn, fpn_recr_tidy)\n",
    "dmn$ses = factor(dmn$ses, labels = c('ses-1', 'ses-2', 'ses-3', 'ses-4'))"
   ]
  },
  {
   "cell_type": "code",
   "execution_count": 16,
   "metadata": {},
   "outputs": [
    {
     "data": {},
     "metadata": {},
     "output_type": "display_data"
    },
    {
     "data": {
      "image/png": "[encoded data removed]",
      "text/plain": [
       "plot without title"
      ]
     },
     "metadata": {},
     "output_type": "display_data"
    }
   ],
   "source": [
    "dmn %>% \n",
    "    #filter(!(sub %in% dualnback_exclude)) %>%\n",
    "    ggplot(aes(ses, FPN_recr, fill = group)) + geom_boxplot()"
   ]
  },
  {
   "cell_type": "code",
   "execution_count": 107,
   "metadata": {},
   "outputs": [
    {
     "data": {
      "text/html": [
       "<dl>\n",
       "\t<dt>$ANOVA</dt>\n",
       "\t\t<dd><table>\n",
       "<thead><tr><th></th><th scope=col>Effect</th><th scope=col>DFn</th><th scope=col>DFd</th><th scope=col>F</th><th scope=col>p</th><th scope=col>p&lt;.05</th><th scope=col>ges</th></tr></thead>\n",
       "<tbody>\n",
       "\t<tr><th scope=row>2</th><td>group       </td><td>1           </td><td> 44         </td><td> 7.453140   </td><td>9.072849e-03</td><td>*           </td><td>0.07484063  </td></tr>\n",
       "\t<tr><th scope=row>3</th><td>ses         </td><td>3           </td><td>132         </td><td>10.373236   </td><td>3.552657e-06</td><td>*           </td><td>0.10965998  </td></tr>\n",
       "\t<tr><th scope=row>4</th><td>group:ses   </td><td>3           </td><td>132         </td><td> 1.677582   </td><td>1.749159e-01</td><td>            </td><td>0.01952972  </td></tr>\n",
       "</tbody>\n",
       "</table>\n",
       "</dd>\n",
       "\t<dt>$`Mauchly's Test for Sphericity`</dt>\n",
       "\t\t<dd><table>\n",
       "<thead><tr><th></th><th scope=col>Effect</th><th scope=col>W</th><th scope=col>p</th><th scope=col>p&lt;.05</th></tr></thead>\n",
       "<tbody>\n",
       "\t<tr><th scope=row>3</th><td>ses       </td><td>0.7204865 </td><td>0.01560157</td><td>*         </td></tr>\n",
       "\t<tr><th scope=row>4</th><td>group:ses </td><td>0.7204865 </td><td>0.01560157</td><td>*         </td></tr>\n",
       "</tbody>\n",
       "</table>\n",
       "</dd>\n",
       "\t<dt>$`Sphericity Corrections`</dt>\n",
       "\t\t<dd><table>\n",
       "<thead><tr><th></th><th scope=col>Effect</th><th scope=col>GGe</th><th scope=col>p[GG]</th><th scope=col>p[GG]&lt;.05</th><th scope=col>HFe</th><th scope=col>p[HF]</th><th scope=col>p[HF]&lt;.05</th></tr></thead>\n",
       "<tbody>\n",
       "\t<tr><th scope=row>3</th><td>ses         </td><td>0.8360232   </td><td>1.734832e-05</td><td>*           </td><td>0.8906401   </td><td>1.021995e-05</td><td>*           </td></tr>\n",
       "\t<tr><th scope=row>4</th><td>group:ses   </td><td>0.8360232   </td><td>1.838791e-01</td><td>            </td><td>0.8906401   </td><td>1.809032e-01</td><td>            </td></tr>\n",
       "</tbody>\n",
       "</table>\n",
       "</dd>\n",
       "</dl>\n"
      ],
      "text/latex": [
       "\\begin{description}\n",
       "\\item[\\$ANOVA] \\begin{tabular}{r|lllllll}\n",
       "  & Effect & DFn & DFd & F & p & p<.05 & ges\\\\\n",
       "\\hline\n",
       "\t2 & group        & 1            &  44          &  7.453140    & 9.072849e-03 & *            & 0.07484063  \\\\\n",
       "\t3 & ses          & 3            & 132          & 10.373236    & 3.552657e-06 & *            & 0.10965998  \\\\\n",
       "\t4 & group:ses    & 3            & 132          &  1.677582    & 1.749159e-01 &              & 0.01952972  \\\\\n",
       "\\end{tabular}\n",
       "\n",
       "\\item[\\$`Mauchly's Test for Sphericity`] \\begin{tabular}{r|llll}\n",
       "  & Effect & W & p & p<.05\\\\\n",
       "\\hline\n",
       "\t3 & ses        & 0.7204865  & 0.01560157 & *         \\\\\n",
       "\t4 & group:ses  & 0.7204865  & 0.01560157 & *         \\\\\n",
       "\\end{tabular}\n",
       "\n",
       "\\item[\\$`Sphericity Corrections`] \\begin{tabular}{r|lllllll}\n",
       "  & Effect & GGe & p{[}GG{]} & p{[}GG{]}<.05 & HFe & p{[}HF{]} & p{[}HF{]}<.05\\\\\n",
       "\\hline\n",
       "\t3 & ses          & 0.8360232    & 1.734832e-05 & *            & 0.8906401    & 1.021995e-05 & *           \\\\\n",
       "\t4 & group:ses    & 0.8360232    & 1.838791e-01 &              & 0.8906401    & 1.809032e-01 &             \\\\\n",
       "\\end{tabular}\n",
       "\n",
       "\\end{description}\n"
      ],
      "text/markdown": [
       "$ANOVA\n",
       ":   \n",
       "| <!--/--> | Effect | DFn | DFd | F | p | p<.05 | ges | \n",
       "|---|---|---|\n",
       "| 2 | group        | 1            |  44          |  7.453140    | 9.072849e-03 | *            | 0.07484063   | \n",
       "| 3 | ses          | 3            | 132          | 10.373236    | 3.552657e-06 | *            | 0.10965998   | \n",
       "| 4 | group:ses    | 3            | 132          |  1.677582    | 1.749159e-01 |              | 0.01952972   | \n",
       "\n",
       "\n",
       "\n",
       "$`Mauchly's Test for Sphericity`\n",
       ":   \n",
       "| <!--/--> | Effect | W | p | p<.05 | \n",
       "|---|---|\n",
       "| 3 | ses        | 0.7204865  | 0.01560157 | *          | \n",
       "| 4 | group:ses  | 0.7204865  | 0.01560157 | *          | \n",
       "\n",
       "\n",
       "\n",
       "$`Sphericity Corrections`\n",
       ":   \n",
       "| <!--/--> | Effect | GGe | p[GG] | p[GG]<.05 | HFe | p[HF] | p[HF]<.05 | \n",
       "|---|---|\n",
       "| 3 | ses          | 0.8360232    | 1.734832e-05 | *            | 0.8906401    | 1.021995e-05 | *            | \n",
       "| 4 | group:ses    | 0.8360232    | 1.838791e-01 |              | 0.8906401    | 1.809032e-01 |              | \n",
       "\n",
       "\n",
       "\n",
       "\n",
       "\n"
      ],
      "text/plain": [
       "$ANOVA\n",
       "     Effect DFn DFd         F            p p<.05        ges\n",
       "2     group   1  44  7.453140 9.072849e-03     * 0.07484063\n",
       "3       ses   3 132 10.373236 3.552657e-06     * 0.10965998\n",
       "4 group:ses   3 132  1.677582 1.749159e-01       0.01952972\n",
       "\n",
       "$`Mauchly's Test for Sphericity`\n",
       "     Effect         W          p p<.05\n",
       "3       ses 0.7204865 0.01560157     *\n",
       "4 group:ses 0.7204865 0.01560157     *\n",
       "\n",
       "$`Sphericity Corrections`\n",
       "     Effect       GGe        p[GG] p[GG]<.05       HFe        p[HF] p[HF]<.05\n",
       "3       ses 0.8360232 1.734832e-05         * 0.8906401 1.021995e-05         *\n",
       "4 group:ses 0.8360232 1.838791e-01           0.8906401 1.809032e-01          \n"
      ]
     },
     "metadata": {},
     "output_type": "display_data"
    }
   ],
   "source": [
    "dmn %>% filter(sub != 'sub-041') %>% ezANOVA(DMN_recr, within = ses, between = group, wid = sub)"
   ]
  },
  {
   "cell_type": "code",
   "execution_count": 68,
   "metadata": {},
   "outputs": [],
   "source": [
    "dualnback_exclude = c('sub-13', 'sub-21', 'sub-23', 'sub-50')"
   ]
  },
  {
   "cell_type": "code",
   "execution_count": 93,
   "metadata": {},
   "outputs": [
    {
     "data": {
      "text/plain": [
       "Call:\n",
       "bwtrim(formula = FPN_recr ~ group * ses, id = sub, data = dmn1, \n",
       "    tr = 0.2)\n",
       "\n",
       "            value p.value\n",
       "ses        3.4590  0.0283\n",
       "group     29.3538  0.0000\n",
       "ses:group  3.7419  0.0210\n"
      ]
     },
     "metadata": {},
     "output_type": "display_data"
    }
   ],
   "source": [
    "bwtrim(FPN_recr ~ group*ses, id = sub, data = dmn1, tr = 0.2)"
   ]
  },
  {
   "cell_type": "code",
   "execution_count": 86,
   "metadata": {},
   "outputs": [
    {
     "data": {
      "text/plain": [
       "Call:\n",
       "sppbi(formula = DMN_recr ~ group * ses, id = sub, data = dmn, \n",
       "    est = \"mom\", nboot = 5000)\n",
       "\n",
       "Test statistics:\n",
       "             Estimate\n",
       "ses-1-ses-2 -0.009587\n",
       "ses-1-ses-3  0.018449\n",
       "ses-1-ses-4  0.025006\n",
       "ses-2-ses-3  0.015004\n",
       "ses-2-ses-4  0.035884\n",
       "ses-3-ses-4  0.011503\n",
       "\n",
       "Test whether the corrresponding population parameters are the same:\n",
       "p-value: 0.4784 \n"
      ]
     },
     "metadata": {},
     "output_type": "display_data"
    }
   ],
   "source": [
    "sppbi(DMN_recr ~ group*ses, sub, dmn, est = \"mom\", nboot = 5000)\n"
   ]
  },
  {
   "cell_type": "code",
   "execution_count": 99,
   "metadata": {},
   "outputs": [
    {
     "data": {
      "text/html": [
       "<table>\n",
       "<thead><tr><th scope=col>sub</th><th scope=col>group</th><th scope=col>ses</th><th scope=col>DMN_integ</th><th scope=col>DMN_recr</th><th scope=col>FPN_recr</th></tr></thead>\n",
       "<tbody>\n",
       "\t<tr><td>sub-41   </td><td>Control  </td><td>ses-4    </td><td>0.2021034</td><td>0.6071344</td><td>0.65072  </td></tr>\n",
       "</tbody>\n",
       "</table>\n"
      ],
      "text/latex": [
       "\\begin{tabular}{r|llllll}\n",
       " sub & group & ses & DMN\\_integ & DMN\\_recr & FPN\\_recr\\\\\n",
       "\\hline\n",
       "\t sub-41    & Control   & ses-4     & 0.2021034 & 0.6071344 & 0.65072  \\\\\n",
       "\\end{tabular}\n"
      ],
      "text/markdown": [
       "\n",
       "sub | group | ses | DMN_integ | DMN_recr | FPN_recr | \n",
       "|---|\n",
       "| sub-41    | Control   | ses-4     | 0.2021034 | 0.6071344 | 0.65072   | \n",
       "\n",
       "\n"
      ],
      "text/plain": [
       "  sub    group   ses   DMN_integ DMN_recr  FPN_recr\n",
       "1 sub-41 Control ses-4 0.2021034 0.6071344 0.65072 "
      ]
     },
     "metadata": {},
     "output_type": "display_data"
    }
   ],
   "source": [
    "dmn %>% filter(DMN_recr > 0.6)"
   ]
  }
 ],
 "metadata": {
  "kernelspec": {
   "display_name": "R",
   "language": "R",
   "name": "ir"
  },
  "language_info": {
   "codemirror_mode": "r",
   "file_extension": ".r",
   "mimetype": "text/x-r-source",
   "name": "R",
   "pygments_lexer": "r",
   "version": "3.4.3"
  }
 },
 "nbformat": 4,
 "nbformat_minor": 2
}
