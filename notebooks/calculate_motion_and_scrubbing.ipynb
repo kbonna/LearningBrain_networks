{
 "cells": [
  {
   "cell_type": "code",
   "execution_count": 1,
   "metadata": {},
   "outputs": [],
   "source": [
    "import pandas as pd\n",
    "import numpy as np\n",
    "from os import listdir\n",
    "import os\n",
    "from glob import glob\n",
    "from fctools import denoise"
   ]
  },
  {
   "cell_type": "code",
   "execution_count": 2,
   "metadata": {},
   "outputs": [],
   "source": [
    "top_dir = '/media/finc/Elements/LearningBrain_fmriprep/'"
   ]
  },
  {
   "cell_type": "code",
   "execution_count": 3,
   "metadata": {},
   "outputs": [],
   "source": [
    "sess = ['ses-1', 'ses-2', 'ses-3', 'ses-4']\n",
    "tasks = ['rest', 'dualnback']\n",
    "subs = sorted([name for name in os.listdir(top_dir) if os.path.isdir(os.path.join(top_dir, name))])"
   ]
  },
  {
   "cell_type": "code",
   "execution_count": 41,
   "metadata": {},
   "outputs": [
    {
     "name": "stdout",
     "output_type": "stream",
     "text": [
      "sub-03 ses-2 dualnback does not exist\n",
      "sub-03 ses-3 dualnback does not exist\n",
      "sub-03 ses-4 dualnback does not exist\n",
      "sub-09 ses-2 dualnback does not exist\n",
      "sub-09 ses-3 dualnback does not exist\n",
      "sub-09 ses-4 dualnback does not exist\n",
      "sub-17 ses-3 dualnback does not exist\n",
      "sub-17 ses-4 dualnback does not exist\n",
      "sub-22 ses-2 dualnback does not exist\n",
      "sub-22 ses-3 dualnback does not exist\n",
      "sub-22 ses-4 dualnback does not exist\n",
      "sub-31 ses-2 dualnback does not exist\n",
      "sub-31 ses-3 dualnback does not exist\n",
      "sub-31 ses-4 dualnback does not exist\n",
      "sub-32 ses-2 dualnback does not exist\n",
      "sub-32 ses-3 dualnback does not exist\n",
      "sub-32 ses-4 dualnback does not exist\n",
      "sub-34 ses-2 dualnback does not exist\n",
      "sub-34 ses-3 dualnback does not exist\n",
      "sub-34 ses-4 dualnback does not exist\n"
     ]
    }
   ],
   "source": [
    "for sub in range(len(subs)):\n",
    "    for ses in range(len(sess)):\n",
    "        for task in range(len(tasks)):\n",
    "            \n",
    "            sub_dir = top_dir + subs[sub] + '/' + sess[ses] + '/func/'\n",
    "            sub_name = subs[sub] + '_' + sess[ses] + '_task-' + tasks[task] \n",
    "            \n",
    "            # Loading confound data\n",
    "            confounds_path = sub_dir + subs[sub] + '_' + sess[ses] + '_task-' + tasks[task] + '_bold_confounds.tsv'\n",
    "            \n",
    "            if not os.path.exists(confounds_path):\n",
    "                print(f\"{subs[sub]} {sess[ses]} {tasks[task]} does not exist\")\n",
    "            else:\n",
    "                # Loading confound data\n",
    "                confounds_path = sub_dir + subs[sub] + '_' + sess[ses] + '_task-' + tasks[task] + '_bold_confounds.tsv'\n",
    "\n",
    "                confounds = pd.read_csv(confounds_path, delimiter = '\\t')\n",
    "                #confounds.to_csv(out_dir + 'confounds/' + sub_name + '_bold_confounds.csv', sep = ',', index = False)\n",
    "\n",
    "                # Select columns of interest \n",
    "                confounds_motion = confounds[confounds.filter(regex = 'X|Y|Z|RotX|RotY|RotZ').columns].values\n",
    "                                \n",
    "                np.savetxt(sub_dir + sub_name + '_6_motion_parameters.txt', confounds_motion)"
   ]
  },
  {
   "cell_type": "code",
   "execution_count": 5,
   "metadata": {},
   "outputs": [
    {
     "name": "stderr",
     "output_type": "stream",
     "text": [
      "/home/finc/anaconda/lib/python3.6/site-packages/pandas/core/indexing.py:179: SettingWithCopyWarning: \n",
      "A value is trying to be set on a copy of a slice from a DataFrame\n",
      "\n",
      "See the caveats in the documentation: http://pandas.pydata.org/pandas-docs/stable/indexing.html#indexing-view-versus-copy\n",
      "  self._setitem_with_indexer(indexer, value)\n",
      "/home/finc/Dropbox/Projects/LearningBrain/github/LearningBrain_networks/notebooks/fctools/denoise.py:66: SettingWithCopyWarning: \n",
      "A value is trying to be set on a copy of a slice from a DataFrame\n",
      "\n",
      "See the caveats in the documentation: http://pandas.pydata.org/pandas-docs/stable/indexing.html#indexing-view-versus-copy\n",
      "  fd.loc[0] = 0\n"
     ]
    },
    {
     "name": "stdout",
     "output_type": "stream",
     "text": [
      "sub-03 ses-2 rest does not exist\n",
      "sub-03 ses-2 dualnback does not exist\n",
      "sub-03 ses-3 rest does not exist\n",
      "sub-03 ses-3 dualnback does not exist\n",
      "sub-03 ses-4 rest does not exist\n",
      "sub-03 ses-4 dualnback does not exist\n",
      "sub-09 ses-2 rest does not exist\n",
      "sub-09 ses-2 dualnback does not exist\n",
      "sub-09 ses-3 rest does not exist\n",
      "sub-09 ses-3 dualnback does not exist\n",
      "sub-09 ses-4 rest does not exist\n",
      "sub-09 ses-4 dualnback does not exist\n",
      "sub-17 ses-3 rest does not exist\n",
      "sub-17 ses-3 dualnback does not exist\n",
      "sub-17 ses-4 rest does not exist\n",
      "sub-17 ses-4 dualnback does not exist\n",
      "sub-20 ses-2 rest does not exist\n",
      "sub-22 ses-2 rest does not exist\n",
      "sub-22 ses-2 dualnback does not exist\n",
      "sub-22 ses-3 rest does not exist\n",
      "sub-22 ses-3 dualnback does not exist\n",
      "sub-22 ses-4 rest does not exist\n",
      "sub-22 ses-4 dualnback does not exist\n",
      "sub-31 ses-2 rest does not exist\n",
      "sub-31 ses-2 dualnback does not exist\n",
      "sub-31 ses-3 rest does not exist\n",
      "sub-31 ses-3 dualnback does not exist\n",
      "sub-31 ses-4 rest does not exist\n",
      "sub-31 ses-4 dualnback does not exist\n",
      "sub-32 ses-2 rest does not exist\n",
      "sub-32 ses-2 dualnback does not exist\n",
      "sub-32 ses-3 rest does not exist\n",
      "sub-32 ses-3 dualnback does not exist\n",
      "sub-32 ses-4 rest does not exist\n",
      "sub-32 ses-4 dualnback does not exist\n",
      "sub-34 ses-2 rest does not exist\n",
      "sub-34 ses-2 dualnback does not exist\n",
      "sub-34 ses-3 rest does not exist\n",
      "sub-34 ses-3 dualnback does not exist\n",
      "sub-34 ses-4 rest does not exist\n",
      "sub-34 ses-4 dualnback does not exist\n",
      "sub-44 ses-2 rest does not exist\n"
     ]
    }
   ],
   "source": [
    "for sub in range(len(subs)):\n",
    "    for ses in range(len(sess)):\n",
    "        for task in range(len(tasks)):\n",
    "            \n",
    "            sub_dir = top_dir + subs[sub] + '/' + sess[ses] + '/func/'\n",
    "            sub_name = subs[sub] + '_' + sess[ses] + '_task-' + tasks[task] \n",
    "            \n",
    "            # Loading confound data\n",
    "            confounds_path = sub_dir + subs[sub] + '_' + sess[ses] + '_task-' + tasks[task] + '_bold_confounds.tsv'\n",
    "            \n",
    "            if not os.path.exists(confounds_path):\n",
    "                print(f\"{subs[sub]} {sess[ses]} {tasks[task]} does not exist\")\n",
    "            else:\n",
    "                # Loading confound data\n",
    "                confounds_path = sub_dir + subs[sub] + '_' + sess[ses] + '_task-' + tasks[task] + '_bold_confounds.tsv'\n",
    "\n",
    "                confounds = pd.read_csv(confounds_path, delimiter = '\\t')\n",
    "                #confounds.to_csv(out_dir + 'confounds/' + sub_name + '_bold_confounds.csv', sep = ',', index = False)\n",
    "\n",
    "                # Select columns of interest \n",
    "                confounds_fd =  confounds[confounds.filter(regex = 'Framewise').columns]\n",
    "\n",
    "                # Detect outliers \n",
    "                confounds_scrub = denoise.scrubbing(confounds_fd, before = False, after = False)                                \n",
    "                np.savetxt(sub_dir + sub_name + '_scrubbing_0_05.txt', confounds_scrub.values)"
   ]
  },
  {
   "cell_type": "code",
   "execution_count": 20,
   "metadata": {},
   "outputs": [],
   "source": [
    "\n",
    "x.shape\n",
    "\n",
    "np.savetxt(top_dir + \"test_motion_parameters.txt\", x)"
   ]
  },
  {
   "cell_type": "code",
   "execution_count": 39,
   "metadata": {},
   "outputs": [
    {
     "data": {
      "text/plain": [
       "array([[  3.96783000e-02,   1.55381000e-02,   3.80359000e-02,\n",
       "          1.19835000e-03,  -9.58139000e-04,   1.29551000e-04],\n",
       "       [  4.02688000e-02,   1.44105000e-02,   1.05422000e-01,\n",
       "          9.44303000e-04,  -9.05608000e-04,   6.01778000e-05],\n",
       "       [  3.52751000e-02,   1.95831000e-02,   1.09879000e-01,\n",
       "          1.31203000e-03,  -1.07295000e-03,   1.16095000e-04],\n",
       "       ..., \n",
       "       [ -1.41968000e-01,  -2.23354000e-02,   2.32900000e-01,\n",
       "         -2.57723000e-03,   1.21549000e-03,  -1.43581000e-03],\n",
       "       [ -1.50032000e-01,  -5.31727000e-03,   2.69725000e-01,\n",
       "         -3.19009000e-03,   1.08663000e-03,  -1.44974000e-03],\n",
       "       [ -1.43227000e-01,  -1.05824000e-03,   2.15803000e-01,\n",
       "         -2.45220000e-03,   1.28654000e-03,  -1.49137000e-03]])"
      ]
     },
     "execution_count": 39,
     "metadata": {},
     "output_type": "execute_result"
    }
   ],
   "source": [
    "confounds[confounds.filter(regex = 'X|Y|Z|RotX|RotY|RotZ').columns].values"
   ]
  },
  {
   "cell_type": "code",
   "execution_count": 32,
   "metadata": {},
   "outputs": [
    {
     "data": {
      "text/plain": [
       "['sub-01',\n",
       " 'sub-01.html',\n",
       " 'sub-02',\n",
       " 'sub-02.html',\n",
       " 'sub-03',\n",
       " 'sub-03.html',\n",
       " 'sub-04',\n",
       " 'sub-04.html',\n",
       " 'sub-05',\n",
       " 'sub-05.html',\n",
       " 'sub-06',\n",
       " 'sub-06.html',\n",
       " 'sub-07',\n",
       " 'sub-07.html',\n",
       " 'sub-08',\n",
       " 'sub-08.html',\n",
       " 'sub-09',\n",
       " 'sub-09.html',\n",
       " 'sub-10',\n",
       " 'sub-10.html',\n",
       " 'sub-46.html',\n",
       " 'sub-47',\n",
       " 'sub-47.html',\n",
       " 'sub-48',\n",
       " 'sub-48.html',\n",
       " 'sub-50',\n",
       " 'sub-50.html',\n",
       " 'sub-51',\n",
       " 'sub-51.html',\n",
       " 'sub-52',\n",
       " 'sub-52.html',\n",
       " 'sub-53',\n",
       " 'sub-53.html',\n",
       " 'sub-54',\n",
       " 'sub-54.html',\n",
       " 'sub-55',\n",
       " 'sub-55.html',\n",
       " 'sub-56',\n",
       " 'sub-56.html',\n",
       " 'sub-34.html',\n",
       " 'sub-35',\n",
       " 'sub-35.html',\n",
       " 'sub-36',\n",
       " 'sub-36.html',\n",
       " 'sub-37',\n",
       " 'sub-37.html',\n",
       " 'sub-39',\n",
       " 'sub-39.html',\n",
       " 'sub-41',\n",
       " 'sub-41.html',\n",
       " 'sub-42',\n",
       " 'sub-42.html',\n",
       " 'sub-43',\n",
       " 'sub-43.html',\n",
       " 'sub-44',\n",
       " 'sub-44.html',\n",
       " 'sub-45',\n",
       " 'sub-45.html',\n",
       " 'sub-11.html',\n",
       " 'sub-12',\n",
       " 'sub-12.html',\n",
       " 'sub-13',\n",
       " 'sub-13.html',\n",
       " 'sub-14',\n",
       " 'sub-14.html',\n",
       " 'sub-15',\n",
       " 'sub-15.html',\n",
       " 'sub-16',\n",
       " 'sub-16.html',\n",
       " 'sub-17',\n",
       " 'sub-17.html',\n",
       " 'sub-18',\n",
       " 'sub-18.html',\n",
       " 'sub-19',\n",
       " 'sub-19.html',\n",
       " 'sub-20',\n",
       " 'sub-20.html',\n",
       " 'sub-21',\n",
       " 'sub-22',\n",
       " 'sub-23',\n",
       " 'sub-11',\n",
       " 'sub-24',\n",
       " 'sub-34',\n",
       " 'sub-46',\n",
       " 'sub-24.html',\n",
       " 'sub-25',\n",
       " 'sub-25.html',\n",
       " 'sub-26',\n",
       " 'sub-26.html',\n",
       " 'sub-27',\n",
       " 'sub-27.html',\n",
       " 'sub-28',\n",
       " 'sub-28.html',\n",
       " 'sub-29',\n",
       " 'sub-29.html',\n",
       " 'sub-30',\n",
       " 'sub-30.html',\n",
       " 'sub-31',\n",
       " 'sub-31.html',\n",
       " 'sub-32',\n",
       " 'sub-32.html',\n",
       " 'sub-33',\n",
       " 'sub-33.html']"
      ]
     },
     "execution_count": 32,
     "metadata": {},
     "output_type": "execute_result"
    }
   ],
   "source": []
  },
  {
   "cell_type": "code",
   "execution_count": 36,
   "metadata": {},
   "outputs": [],
   "source": []
  },
  {
   "cell_type": "code",
   "execution_count": 38,
   "metadata": {},
   "outputs": [
    {
     "data": {
      "text/plain": [
       "53"
      ]
     },
     "execution_count": 38,
     "metadata": {},
     "output_type": "execute_result"
    }
   ],
   "source": []
  }
 ],
 "metadata": {
  "kernelspec": {
   "display_name": "Python 3",
   "language": "python",
   "name": "python3"
  },
  "language_info": {
   "codemirror_mode": {
    "name": "ipython",
    "version": 3
   },
   "file_extension": ".py",
   "mimetype": "text/x-python",
   "name": "python",
   "nbconvert_exporter": "python",
   "pygments_lexer": "ipython3",
   "version": "3.6.3"
  }
 },
 "nbformat": 4,
 "nbformat_minor": 2
}
