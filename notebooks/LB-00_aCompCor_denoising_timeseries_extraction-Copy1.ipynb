{
 "cells": [
  {
   "cell_type": "markdown",
   "metadata": {},
   "source": [
    "Denoising fMRI data using aCompCor and time-series extraction and task signal regression\n",
    "================================================\n",
    "\n",
    "This a script for group denoising and timeseries extraction from on longitudinal fMRI data preprocessed in fmriprep.\n",
    "\n",
    "Last edit: 02.08.2017"
   ]
  },
  {
   "cell_type": "markdown",
   "metadata": {},
   "source": [
    "Step 1: Importing packages\n",
    "------------------------------------------"
   ]
  },
  {
   "cell_type": "code",
   "execution_count": 2,
   "metadata": {},
   "outputs": [],
   "source": [
    "%reset -f\n",
    "%matplotlib inline\n",
    "\n",
    "from os import listdir\n",
    "import os\n",
    "\n",
    "\n",
    "import pandas as pd\n",
    "import numpy as np \n",
    "import matplotlib.pyplot as plt \n",
    "\n",
    "from sklearn import preprocessing # for normalization of confounds columns\n",
    "\n",
    "from nilearn import datasets, plotting, input_data, signal  # for fetching atlas\n",
    "\n",
    "from nilearn.input_data import NiftiLabelsMasker\n",
    "from nilearn.connectome import ConnectivityMeasure\n",
    "from nistats.reporting import plot_design_matrix\n",
    "from nistats.design_matrix import make_design_matrix\n",
    "\n",
    "from fctools import denoise"
   ]
  },
  {
   "cell_type": "markdown",
   "metadata": {},
   "source": [
    "Step 2: Create design matrix\n",
    "--------------------------------------"
   ]
  },
  {
   "cell_type": "code",
   "execution_count": 12,
   "metadata": {},
   "outputs": [
    {
     "data": {
      "text/plain": [
       "[<matplotlib.lines.Line2D at 0x7f2dbd58d240>]"
      ]
     },
     "execution_count": 12,
     "metadata": {},
     "output_type": "execute_result"
    },
    {
     "data": {
      "image/png": "[encoded data removed]",
      "text/plain": [
       "<matplotlib.figure.Figure at 0x7f2dbd4f4f98>"
      ]
     },
     "metadata": {},
     "output_type": "display_data"
    }
   ],
   "source": [
    "t_r = 2\n",
    "n_scans = 340\n",
    "\n",
    "onsets_dir = '/home/finc/Dropbox/Projects/LearningBrain/github/LearningBrain_networks/support/onsets_dualnback.csv'\n",
    "\n",
    "events = pd.read_csv(onsets_dir)\n",
    "\n",
    "frame_times = np.arange(n_scans) * t_r\n",
    "\n",
    "design_matrix = make_design_matrix(frame_times, events, hrf_model = 'glover')\n",
    "design_matrix = design_matrix.reset_index()\n",
    "\n",
    "plt.plot(design_matrix['2-back'])"
   ]
  },
  {
   "cell_type": "markdown",
   "metadata": {},
   "source": [
    "Step 3: Creating atlas\n",
    "-------------------------------------------"
   ]
  },
  {
   "cell_type": "code",
   "execution_count": 6,
   "metadata": {},
   "outputs": [],
   "source": [
    "# Loading Power ROIs coordinates\n",
    "\n",
    "power = datasets.fetch_coords_power_2011()\n",
    "power_coords = np.vstack((power.rois['x'], power.rois['y'], power.rois['z'])).T\n",
    "\n",
    "# Creating masker file\n",
    "\n",
    "power_spheres = input_data.NiftiSpheresMasker(\n",
    "    seeds = power_coords, \n",
    "    #smoothing_fwhm = 6, \n",
    "    radius = 5,\n",
    "    detrend = True, \n",
    "    standardize = True,\n",
    "    low_pass = 0.08, \n",
    "    high_pass = 0.009,\n",
    "    t_r = 2\n",
    ")\n",
    "\n",
    "parcellation = power_spheres"
   ]
  },
  {
   "cell_type": "markdown",
   "metadata": {},
   "source": [
    "Step 4: Loading data\n",
    "-----------------------"
   ]
  },
  {
   "cell_type": "code",
   "execution_count": 7,
   "metadata": {},
   "outputs": [
    {
     "data": {
      "text/plain": [
       "['sub-01', 'sub-02', 'sub-04', 'sub-05', 'sub-06']"
      ]
     },
     "execution_count": 7,
     "metadata": {},
     "output_type": "execute_result"
    }
   ],
   "source": [
    "# Selecting subjects which finished the study\n",
    "\n",
    "groups = pd.read_csv('/home/finc/Dropbox/Projects/LearningBrain/github/LearningBrain_networks/data/behavioral/group_assignment.csv')\n",
    "\n",
    "trained = (groups.group == 'Experimental') | (groups.group == 'Control')\n",
    "trained_subs = groups[trained]['sub']\n",
    "subs = pd.Series.tolist(trained_subs)\n",
    "subs[:5]\n"
   ]
  },
  {
   "cell_type": "code",
   "execution_count": 8,
   "metadata": {},
   "outputs": [],
   "source": [
    "# Loading functional data\n",
    "top_dir = '/media/finc/Elements/LearningBrain_fmriprep/'\n",
    "out_dir = '/home/finc/Dropbox/Projects/LearningBrain/data/'\n",
    "\n",
    "sess = ['ses-1', 'ses-2', 'ses-3', 'ses-4']\n",
    "#tasks = ['rest']\n",
    "tasks = ['dualnback']\n",
    "#subs = listdir(top_dir)\n",
    "\n",
    "suffix = 'space-MNI152NLin2009cAsym_preproc.nii.gz'\n",
    "#suffix = 'space-MNI152NLin2009cAsym_variant-smoothAROMAnonaggr_preproc.nii.gz'\n"
   ]
  },
  {
   "cell_type": "markdown",
   "metadata": {},
   "source": [
    "Step 5: Obtaining timeseries from ROIs \n",
    "------------------------------------------------------------------------\n",
    "Creating 5D matrix with mean timeseries within each ROI "
   ]
  },
  {
   "cell_type": "code",
   "execution_count": 13,
   "metadata": {},
   "outputs": [
    {
     "name": "stderr",
     "output_type": "stream",
     "text": [
      "/home/finc/Dropbox/Projects/LearningBrain/github/LearningBrain_networks/notebooks/fctools/denoise.py:39: SettingWithCopyWarning: \n",
      "A value is trying to be set on a copy of a slice from a DataFrame.\n",
      "Try using .loc[row_indexer,col_indexer] = value instead\n",
      "\n",
      "See the caveats in the documentation: http://pandas.pydata.org/pandas-docs/stable/indexing.html#indexing-view-versus-copy\n",
      "  motion_24_friston[col + '_td'] = temp_diff\n",
      "/home/finc/Dropbox/Projects/LearningBrain/github/LearningBrain_networks/notebooks/fctools/denoise.py:43: SettingWithCopyWarning: \n",
      "A value is trying to be set on a copy of a slice from a DataFrame.\n",
      "Try using .loc[row_indexer,col_indexer] = value instead\n",
      "\n",
      "See the caveats in the documentation: http://pandas.pydata.org/pandas-docs/stable/indexing.html#indexing-view-versus-copy\n",
      "  motion_24_friston[col + '_sqrt'] = sqrt\n",
      "/home/finc/anaconda/lib/python3.6/site-packages/pandas/core/indexing.py:179: SettingWithCopyWarning: \n",
      "A value is trying to be set on a copy of a slice from a DataFrame\n",
      "\n",
      "See the caveats in the documentation: http://pandas.pydata.org/pandas-docs/stable/indexing.html#indexing-view-versus-copy\n",
      "  self._setitem_with_indexer(indexer, value)\n",
      "/home/finc/Dropbox/Projects/LearningBrain/github/LearningBrain_networks/notebooks/fctools/denoise.py:66: SettingWithCopyWarning: \n",
      "A value is trying to be set on a copy of a slice from a DataFrame\n",
      "\n",
      "See the caveats in the documentation: http://pandas.pydata.org/pandas-docs/stable/indexing.html#indexing-view-versus-copy\n",
      "  fd.loc[0] = 0\n"
     ]
    },
    {
     "ename": "NameError",
     "evalue": "name 'box' is not defined",
     "output_type": "error",
     "traceback": [
      "\u001b[0;31m---------------------------------------------------------------------------\u001b[0m",
      "\u001b[0;31mNameError\u001b[0m                                 Traceback (most recent call last)",
      "\u001b[0;32m<ipython-input-13-37132b4a7ce4>\u001b[0m in \u001b[0;36m<module>\u001b[0;34m()\u001b[0m\n\u001b[1;32m     37\u001b[0m \u001b[0;34m\u001b[0m\u001b[0m\n\u001b[1;32m     38\u001b[0m                 \u001b[0;31m# Add scrubbing columns\u001b[0m\u001b[0;34m\u001b[0m\u001b[0;34m\u001b[0m\u001b[0m\n\u001b[0;32m---> 39\u001b[0;31m                 \u001b[0mconfounds_clean\u001b[0m \u001b[0;34m=\u001b[0m \u001b[0mpd\u001b[0m\u001b[0;34m.\u001b[0m\u001b[0mconcat\u001b[0m\u001b[0;34m(\u001b[0m\u001b[0;34m[\u001b[0m\u001b[0mconfounds_anat\u001b[0m\u001b[0;34m,\u001b[0m \u001b[0mconfounds_motion_24\u001b[0m\u001b[0;34m,\u001b[0m \u001b[0mconfounds_scrub\u001b[0m\u001b[0;34m,\u001b[0m \u001b[0mpd\u001b[0m\u001b[0;34m.\u001b[0m\u001b[0mDataFrame\u001b[0m\u001b[0;34m(\u001b[0m\u001b[0mbox\u001b[0m\u001b[0;34m,\u001b[0m \u001b[0mcolumns\u001b[0m \u001b[0;34m=\u001b[0m \u001b[0;34m[\u001b[0m\u001b[0;34m'intro'\u001b[0m\u001b[0;34m,\u001b[0m \u001b[0;34m'1-back'\u001b[0m\u001b[0;34m,\u001b[0m \u001b[0;34m'2-back'\u001b[0m\u001b[0;34m]\u001b[0m\u001b[0;34m)\u001b[0m\u001b[0;34m]\u001b[0m\u001b[0;34m,\u001b[0m \u001b[0maxis\u001b[0m \u001b[0;34m=\u001b[0m \u001b[0;36m1\u001b[0m\u001b[0;34m)\u001b[0m\u001b[0;34m\u001b[0m\u001b[0m\n\u001b[0m\u001b[1;32m     40\u001b[0m \u001b[0;34m\u001b[0m\u001b[0m\n\u001b[1;32m     41\u001b[0m                 \u001b[0;31m# Save preprocessed confound file\u001b[0m\u001b[0;34m\u001b[0m\u001b[0;34m\u001b[0m\u001b[0m\n",
      "\u001b[0;31mNameError\u001b[0m: name 'box' is not defined"
     ]
    }
   ],
   "source": [
    "#subs = listdir(top_dir)\n",
    "\n",
    "timeseries_all = np.zeros((len(subs), len(sess), 340, 264))\n",
    "\n",
    "for sub in range(len(subs)):\n",
    "    for ses in range(len(sess)):\n",
    "        for task in range(len(tasks)):\n",
    "            \n",
    "            sub_dir = top_dir + subs[sub] + '/' + sess[ses] + '/func/'\n",
    "            sub_name = subs[sub] + '_' + sess[ses] + '_task-' + tasks[task] \n",
    "            data = sub_dir + subs[sub] + '_' + sess[ses] + '_task-' + tasks[task] + '_bold_' + suffix\n",
    "            \n",
    "            # Loading confound data\n",
    "            confounds_path = sub_dir + subs[sub] + '_' + sess[ses] + '_task-' + tasks[task] + '_bold_confounds.tsv'\n",
    "            \n",
    "            if not os.path.exists(confounds_path):\n",
    "                print(f\"{subs[sub]} {sess[ses]} {tasks[task]} does not exist\")\n",
    "            else:\n",
    "    \n",
    "            \n",
    "                confounds = pd.read_csv(confounds_path, delimiter = '\\t')\n",
    "                confounds.to_csv(out_dir + 'confounds/' + sub_name + '_bold_confounds.csv', sep = ',', index = False)\n",
    "\n",
    "                # Select columns of interest \n",
    "                confounds_motion = confounds[confounds.filter(regex = 'X|Y|Z|RotX|RotY|RotZ').columns]\n",
    "                confounds_anat = confounds[confounds.filter(regex = 'CSF|WhiteMatter|aCompCor').columns]\n",
    "                confounds_fd =  confounds[confounds.filter(regex = 'Framewise').columns]\n",
    "\n",
    "                # Calculate 24 fristom motion parameters\n",
    "                confounds_motion_24 =  denoise.motion_24_friston(confounds_motion)\n",
    "\n",
    "                # Detect outliers \n",
    "                confounds_scrub = denoise.scrubbing(confounds_fd, before = False)\n",
    "\n",
    "                # Standardize confounds\n",
    "                confounds_anat = denoise.standardize(confounds_anat)\n",
    "\n",
    "                # Add scrubbing columns\n",
    "                confounds_clean = pd.concat([confounds_anat, confounds_motion_24, confounds_scrub, pd.DataFrame(design_matrix, columns = ['intro', '1-back', '2-back'])], axis = 1)\n",
    "\n",
    "                # Save preprocessed confound file\n",
    "                confounds_clean.to_csv(out_dir + 'confounds/' + sub_name + '_clean_acompcor.csv', sep = ',', index = False)\n",
    "                confounds_clean_path = out_dir + 'confounds/' + sub_name + '_clean_acompcor.csv'\n",
    "\n",
    "                timeseries = parcellation.fit_transform(data, confounds = confounds_clean_path)\n",
    "\n",
    "                timeseries_all[sub, ses, :, :] = timeseries\n",
    "            \n",
    "np.save(out_dir + 'neuroimaging/' + 'LearningBrain_' + tasks[task] + '_lp_0.08_intro_regressed_no_smoothing.npy', timeseries_all)"
   ]
  }
 ],
 "metadata": {
  "kernelspec": {
   "display_name": "Python 3",
   "language": "python",
   "name": "python3"
  },
  "language_info": {
   "codemirror_mode": {
    "name": "ipython",
    "version": 3
   },
   "file_extension": ".py",
   "mimetype": "text/x-python",
   "name": "python",
   "nbconvert_exporter": "python",
   "pygments_lexer": "ipython3",
   "version": "3.6.3"
  }
 },
 "nbformat": 4,
 "nbformat_minor": 2
}
