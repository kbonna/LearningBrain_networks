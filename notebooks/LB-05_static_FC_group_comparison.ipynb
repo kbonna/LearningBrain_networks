{
 "cells": [
  {
   "cell_type": "code",
   "execution_count": 377,
   "metadata": {},
   "outputs": [
    {
     "name": "stdin",
     "output_type": "stream",
     "text": [
      "Once deleted, variables cannot be recovered. Proceed (y/[n])?  y\n"
     ]
    }
   ],
   "source": [
    "%reset\n",
    "%matplotlib inline\n",
    "\n",
    "\n",
    "import numpy as np\n",
    "from sklearn.metrics.pairwise import cosine_similarity\n",
    "\n",
    "import pandas as pd\n",
    "import matplotlib.pyplot as plt \n",
    "\n",
    "from nilearn import plotting \n",
    "\n",
    "from scipy import spatial"
   ]
  },
  {
   "cell_type": "code",
   "execution_count": 378,
   "metadata": {},
   "outputs": [
    {
     "data": {
      "text/plain": [
       "(46, 4, 3, 264, 264)"
      ]
     },
     "execution_count": 378,
     "metadata": {},
     "output_type": "execute_result"
    }
   ],
   "source": [
    "top_dir = '/home/finc/Dropbox/Projects/LearningBrain/data/neuroimaging/'\n",
    "out_dir = '/home/finc/Dropbox/Projects/LearningBrain/data/neuroimaging/'\n",
    "\n",
    "cor_mat = np.load(top_dir + 'LearningBrain_matrices_all_lp_0.08_aCompCor_power.npy')\n",
    "\n",
    "cor_mat[16, 1, 0, :, :] = 0 # zeroing missing data\n",
    "cor_mat[34, 1, 0, :, :] = 0\n",
    "\n",
    "cor_mat.shape"
   ]
  },
  {
   "cell_type": "code",
   "execution_count": 379,
   "metadata": {},
   "outputs": [
    {
     "data": {
      "text/plain": [
       "['sub-01', 'sub-02', 'sub-04', 'sub-05', 'sub-06']"
      ]
     },
     "execution_count": 379,
     "metadata": {},
     "output_type": "execute_result"
    }
   ],
   "source": [
    "# Selecting subjects which finished the study\n",
    "\n",
    "groups = pd.read_csv('/home/finc/Dropbox/Projects/LearningBrain/github/LearningBrain_networks/data/behavioral/group_assignment.csv')\n",
    "\n",
    "trained = (groups.group == 'Experimental') | (groups.group == 'Control')\n",
    "trained_subs = groups[trained]['sub']\n",
    "subs = pd.Series.tolist(trained_subs)\n",
    "subs[:5]\n"
   ]
  },
  {
   "cell_type": "code",
   "execution_count": 380,
   "metadata": {},
   "outputs": [],
   "source": [
    "# Selecting subjects to exclude\n",
    "\n",
    "# dualnback\n",
    "\n",
    "dualnback_exclude = ['sub-13', 'sub-21', 'sub-23', 'sub-50'] # higly motion subjects in one of four sessions\n",
    "rest_exclude = ['sub-20', 'sub-44', 'sub-21', 'sub-46', 'sub-47'] # higly motion subjects in one of four sessions / missing data(20-44)\n",
    "\n",
    "dual_vector = []\n",
    "rest_vector = []\n",
    "first_vector = np.array(subs) ==  'sub-21' # subject with highly motion on first session\n",
    "\n",
    "for sub in subs:\n",
    "    if sub in dualnback_exclude:\n",
    "        dual_vector.append(False)\n",
    "    else:\n",
    "        dual_vector.append(True)\n",
    "\n",
    "\n",
    "for sub in subs:\n",
    "    if sub in rest_exclude:\n",
    "        rest_vector.append(False)\n",
    "    else:\n",
    "        rest_vector.append(True)"
   ]
  },
  {
   "cell_type": "code",
   "execution_count": 381,
   "metadata": {},
   "outputs": [],
   "source": [
    "def upper_tri_masking(A):\n",
    "    m = A.shape[0]\n",
    "    r = np.arange(m)\n",
    "    mask = r[:, None] < r\n",
    "    return A[mask]"
   ]
  },
  {
   "cell_type": "code",
   "execution_count": 382,
   "metadata": {},
   "outputs": [],
   "source": [
    "cor_mat = cor_mat[:,:,1:,:,:] # selecting dualnback conditions\n",
    "\n",
    "subs = len(cor_mat[:,0,0,0,0])\n",
    "sess = len(cor_mat[0,:,0,0,0])\n",
    "cond = len(cor_mat[0,0,:,0,0])\n",
    "\n",
    "M = np.zeros((subs * sess * cond, subs * sess * cond))\n",
    "i = 0\n",
    "j = 0\n",
    "\n",
    "for sub in range(subs):\n",
    "    for ses in range(sess):\n",
    "        for con in range(cond):\n",
    "            for subx in range(subs):\n",
    "                for sesx in range(sess):\n",
    "                    for conx in range(cond):\n",
    "                        A = upper_tri_masking(cor_mat[sub, ses, con, :, :])\n",
    "                        B = upper_tri_masking(cor_mat[subx, sesx, conx, :, :])\n",
    "                        similarity = 1 - spatial.distance.cosine(A, B)\n",
    "                        M[i,j] = similarity\n",
    "                        j += 1\n",
    "            i += 1\n",
    "            j = 0"
   ]
  },
  {
   "cell_type": "code",
   "execution_count": 383,
   "metadata": {},
   "outputs": [],
   "source": [
    "subs = len(cor_mat[:,0,0,0,0])\n",
    "sess = len(cor_mat[0,:,0,0,0])\n",
    "cond = len(cor_mat[0,0,:,0,0])\n",
    "\n",
    "K = np.zeros((subs, sess * cond, sess * cond))\n",
    "\n",
    "i = 0\n",
    "j = 0\n",
    "\n",
    "for sub in range(subs):\n",
    "    for ses in range(sess):\n",
    "        for con in range(cond):\n",
    "            for sesx in range(sess):\n",
    "                for conx in range(cond):\n",
    "                    A = upper_tri_masking(cor_mat[sub, ses, con, :, :])\n",
    "                    B = upper_tri_masking(cor_mat[sub, sesx, conx, :, :])\n",
    "                    similarity = 1 - spatial.distance.cosine(A, B)\n",
    "                    K[sub, i, j] = similarity\n",
    "                    j += 1\n",
    "            i += 1\n",
    "            j = 0\n",
    "    i = 0\n"
   ]
  },
  {
   "cell_type": "code",
   "execution_count": 384,
   "metadata": {},
   "outputs": [
    {
     "name": "stdout",
     "output_type": "stream",
     "text": [
      "[False False False  True  True  True False False  True False False  True\n",
      " False  True  True  True False False False  True False False  True False\n",
      "  True False  True False False False  True False False False  True  True\n",
      " False  True  True False  True  True False  True False  True]\n",
      "[ True  True  True False False False  True  True False  True False False\n",
      "  True False False False  True False False False  True  True False  True\n",
      " False  True False  True  True  True False  True  True  True False False\n",
      "  True False False False False False  True False  True False]\n"
     ]
    }
   ],
   "source": [
    "# Creating groups vectors\n",
    "\n",
    "groups = pd.read_csv('/home/finc/Dropbox/Projects/LearningBrain/github/LearningBrain_networks/data/behavioral/group_assignment.csv')\n",
    "\n",
    "trained = (groups.group == 'Experimental') | (groups.group == 'Control')\n",
    "trained_subs = groups[trained]\n",
    "\n",
    "experimental = (trained_subs == 'Experimental')\n",
    "control = (trained_subs == 'Control')\n",
    "\n",
    "exp_vector = experimental['group'].values * dual_vector\n",
    "con_vector = control['group'].values * dual_vector\n",
    "\n",
    "print(exp_vector)\n",
    "print(con_vector)"
   ]
  },
  {
   "cell_type": "code",
   "execution_count": 385,
   "metadata": {},
   "outputs": [
    {
     "data": {
      "text/plain": [
       "<matplotlib.image.AxesImage at 0x7f1b5775a9b0>"
      ]
     },
     "execution_count": 385,
     "metadata": {},
     "output_type": "execute_result"
    },
    {
     "data": {
      "image/png": "[encoded data removed]",
      "text/plain": [
       "<matplotlib.figure.Figure at 0x7f1b56e5a2e8>"
      ]
     },
     "metadata": {},
     "output_type": "display_data"
    }
   ],
   "source": [
    "experimental = K[exp_vector,:,:]\n",
    "control = K[con_vector,:,:]\n",
    "\n",
    "\n",
    "exp = experimental.mean(axis = 0)\n",
    "con = control.mean(axis = 0)\n",
    "\n",
    "plotting.plot_matrix(exp, cmap=\"viridis\")"
   ]
  },
  {
   "cell_type": "code",
   "execution_count": 386,
   "metadata": {},
   "outputs": [
    {
     "data": {
      "text/plain": [
       "<matplotlib.image.AxesImage at 0x7f1b5883ada0>"
      ]
     },
     "execution_count": 386,
     "metadata": {},
     "output_type": "execute_result"
    },
    {
     "data": {
      "image/png": "[encoded data removed]",
      "text/plain": [
       "<matplotlib.figure.Figure at 0x7f1b57e5add8>"
      ]
     },
     "metadata": {},
     "output_type": "display_data"
    }
   ],
   "source": [
    "plotting.plot_matrix(con, cmap=\"viridis\")"
   ]
  },
  {
   "cell_type": "code",
   "execution_count": 389,
   "metadata": {},
   "outputs": [
    {
     "data": {
      "text/plain": [
       "array([False, False, False, False, False, False, False, False, False,\n",
       "       False, False, False, False, False, False, False, False, False,\n",
       "       False, False, False, False, False, False, False, False, False,\n",
       "       False, False, False, False, False, False, False, False, False,\n",
       "       False, False, False, False, False, False, False, False, False,\n",
       "       False, False, False, False, False, False, False, False, False,\n",
       "       False, False, False, False, False, False, False, False, False,\n",
       "       False, False, False, False, False, False, False, False, False,\n",
       "       False,  True,  True,  True,  True,  True,  True,  True,  True,\n",
       "        True,  True, False, False,  True,  True,  True,  True,  True,\n",
       "        True,  True,  True,  True,  True,  True,  True,  True,  True,\n",
       "        True,  True,  True,  True,  True,  True,  True,  True,  True,\n",
       "        True,  True,  True,  True,  True,  True,  True,  True,  True,\n",
       "        True,  True,  True,  True,  True,  True,  True,  True,  True,\n",
       "        True,  True,  True,  True,  True, False, False, False, False,\n",
       "       False,  True, False,  True, False, False, False, False, False,\n",
       "       False, False, False, False, False, False, False, False, False,\n",
       "       False, False, False, False, False, False, False, False, False,\n",
       "       False, False, False, False, False, False, False, False, False,\n",
       "       False, False,  True,  True,  True,  True,  True,  True,  True,\n",
       "        True, False, False, False, False,  True,  True,  True,  True,\n",
       "        True,  True,  True,  True,  True,  True,  True,  True,  True,\n",
       "        True,  True,  True,  True, False, False, False, False, False,\n",
       "       False, False, False, False, False, False, False, False, False,\n",
       "       False, False, False, False, False, False, False, False, False,\n",
       "       False, False, False, False, False, False, False, False, False,\n",
       "       False, False, False, False, False, False, False, False, False,\n",
       "       False, False, False, False, False, False, False, False, False,\n",
       "       False, False, False, False, False, False, False, False, False,\n",
       "       False, False, False], dtype=bool)"
      ]
     },
     "execution_count": 389,
     "metadata": {},
     "output_type": "execute_result"
    }
   ],
   "source": [
    "modules = pd.read_csv('/home/finc/Dropbox/Projects/LearningBrain/code/modules.txt', sep = \" \", header = None)\n",
    "\n",
    "mod = modules[0].values\n",
    "\n",
    "DMFP = (mod == 'DM')|(mod == 'FP')\n",
    "DM = (mod == 'DM')\n",
    "FP = (mod == 'FP')\n",
    "\n",
    "DMFP"
   ]
  },
  {
   "cell_type": "code",
   "execution_count": 399,
   "metadata": {},
   "outputs": [],
   "source": [
    "from scipy import spatial\n",
    "\n",
    "subs = len(cor_mat[:,0,0,0,0])\n",
    "sess = len(cor_mat[0,:,0,0,0])\n",
    "cond = len(cor_mat[0,0,:,0,0])\n",
    "\n",
    "K = np.zeros((subs, sess * cond, sess * cond))\n",
    "cor_matx = cor_mat[:,:,:,:,FP]\n",
    "cor_matx = cor_matx[:,:,:,FP,:]\n",
    "\n"
   ]
  },
  {
   "cell_type": "code",
   "execution_count": null,
   "metadata": {},
   "outputs": [],
   "source": []
  },
  {
   "cell_type": "code",
   "execution_count": 400,
   "metadata": {},
   "outputs": [],
   "source": [
    "K = np.zeros((subs, sess * cond, sess * cond))\n",
    "\n",
    "i = 0\n",
    "j = 0\n",
    "\n",
    "for sub in range(subs):\n",
    "    for ses in range(sess):\n",
    "        for con in range(cond):\n",
    "            for sesx in range(sess):\n",
    "                for conx in range(cond):\n",
    "                    A = upper_tri_masking(cor_matx[sub, ses, con, :, :])\n",
    "                    B = upper_tri_masking(cor_matx[sub, sesx, conx, :, :])\n",
    "                    similarity = 1 - spatial.distance.cosine(A, B)\n",
    "                    K[sub, i, j] = similarity\n",
    "                    j += 1\n",
    "            i += 1\n",
    "            j = 0\n",
    "    i = 0\n"
   ]
  },
  {
   "cell_type": "code",
   "execution_count": 401,
   "metadata": {},
   "outputs": [
    {
     "data": {
      "text/plain": [
       "<matplotlib.image.AxesImage at 0x7f1b586475f8>"
      ]
     },
     "execution_count": 401,
     "metadata": {},
     "output_type": "execute_result"
    },
    {
     "data": {
      "image/png": "[encoded data removed]",
      "text/plain": [
       "<matplotlib.figure.Figure at 0x7f1b57b98588>"
      ]
     },
     "metadata": {},
     "output_type": "display_data"
    }
   ],
   "source": [
    "experimental = K[exp_vector,:,:]\n",
    "control = K[con_vector,:,:]\n",
    "\n",
    "\n",
    "exp = experimental.mean(axis = 0)\n",
    "con = control.mean(axis = 0)\n",
    "\n",
    "plotting.plot_matrix(exp, cmap=\"viridis\")"
   ]
  },
  {
   "cell_type": "code",
   "execution_count": 402,
   "metadata": {},
   "outputs": [
    {
     "data": {
      "text/plain": [
       "<matplotlib.image.AxesImage at 0x7f1b585e6630>"
      ]
     },
     "execution_count": 402,
     "metadata": {},
     "output_type": "execute_result"
    },
    {
     "data": {
      "image/png": "[encoded data removed]",
      "text/plain": [
       "<matplotlib.figure.Figure at 0x7f1b591bf668>"
      ]
     },
     "metadata": {},
     "output_type": "display_data"
    }
   ],
   "source": [
    "plotting.plot_matrix(con, cmap=\"viridis\")"
   ]
  }
 ],
 "metadata": {
  "kernelspec": {
   "display_name": "Python 3",
   "language": "python",
   "name": "python3"
  },
  "language_info": {
   "codemirror_mode": {
    "name": "ipython",
    "version": 3
   },
   "file_extension": ".py",
   "mimetype": "text/x-python",
   "name": "python",
   "nbconvert_exporter": "python",
   "pygments_lexer": "ipython3",
   "version": "3.6.3"
  }
 },
 "nbformat": 4,
 "nbformat_minor": 2
}
