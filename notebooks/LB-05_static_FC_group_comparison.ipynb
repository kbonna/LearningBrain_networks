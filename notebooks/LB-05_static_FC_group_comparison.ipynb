{
 "cells": [
  {
   "cell_type": "code",
   "execution_count": 80,
   "metadata": {},
   "outputs": [
    {
     "name": "stdin",
     "output_type": "stream",
     "text": [
      "Once deleted, variables cannot be recovered. Proceed (y/[n])?  y\n"
     ]
    }
   ],
   "source": [
    "%reset\n",
    "%matplotlib inline\n",
    "\n",
    "\n",
    "import numpy as np\n",
    "from sklearn.metrics.pairwise import cosine_similarity\n",
    "\n",
    "import pandas as pd\n",
    "import matplotlib.pyplot as plt \n",
    "\n",
    "from nilearn import plotting "
   ]
  },
  {
   "cell_type": "code",
   "execution_count": 290,
   "metadata": {},
   "outputs": [
    {
     "data": {
      "text/plain": [
       "(46, 4, 3, 264, 264)"
      ]
     },
     "execution_count": 290,
     "metadata": {},
     "output_type": "execute_result"
    }
   ],
   "source": [
    "top_dir = '/home/finc/Dropbox/Projects/LearningBrain/data/neuroimaging/'\n",
    "out_dir = '/home/finc/Dropbox/Projects/LearningBrain/data/neuroimaging/'\n",
    "\n",
    "cor_mat = np.load(top_dir + 'LearningBrain_matrices_all_lp_0.08_aCompCor_power.npy')\n",
    "\n",
    "cor_mat[16, 1, 0, :, :] = 0 # zeroing missing data\n",
    "cor_mat[34, 1, 0, :, :] = 0\n",
    "\n",
    "cor_mat.shape"
   ]
  },
  {
   "cell_type": "code",
   "execution_count": 82,
   "metadata": {},
   "outputs": [],
   "source": [
    "def upper_tri_masking(A):\n",
    "    m = A.shape[0]\n",
    "    r = np.arange(m)\n",
    "    mask = r[:, None] < r\n",
    "    return A[mask]"
   ]
  },
  {
   "cell_type": "code",
   "execution_count": null,
   "metadata": {},
   "outputs": [],
   "source": [
    "from scipy import spatial\n",
    "\n",
    "subs = len(cor_mat[:,0,0,0,0])\n",
    "sess = len(cor_mat[0,:,0,0,0])\n",
    "cond = len(cor_mat[0,0,:,0,0])\n",
    "\n",
    "M = np.zeros((subs * sess * cond, subs * sess * cond))\n",
    "i = 0\n",
    "j = 0\n",
    "\n",
    "for sub in range(subs):\n",
    "    for ses in range(sess):\n",
    "        for con in range(cond):\n",
    "            for subx in range(subs):\n",
    "                for sesx in range(sess):\n",
    "                    for conx in range(cond):\n",
    "                        B = upper_tri_masking(cor_mat[subx, sesx, conx, :, :])\n",
    "                        similarity = 1 - spatial.distance.cosine(A, B)\n",
    "                        M[i,j] = similarity\n",
    "                        while j != (subs * sess * cond)-1 :\n",
    "                            j += 1\n",
    "                while j != (subs * sess * cond)-1 :\n",
    "                    i += 1\n",
    "\n",
    "\n",
    "\n",
    "#A = upper_tri_masking(cor_mat[10,0,0,:,:])\n",
    "#B = upper_tri_masking(cor_mat[10,3,0,:,:])\n",
    "\n",
    "#result = 1 - spatial.distance.cosine(A, B)\n",
    "\n",
    "#x = cosine_similarity(A,B)\n",
    "#x.shape\n",
    "#x\n",
    "\n",
    "#print(A)\n",
    "#print(B)\n",
    "#print(\"cosine similarity: \", result)\n"
   ]
  },
  {
   "cell_type": "code",
   "execution_count": 144,
   "metadata": {},
   "outputs": [
    {
     "name": "stderr",
     "output_type": "stream",
     "text": [
      "/home/finc/anaconda/lib/python3.6/site-packages/scipy/spatial/distance.py:505: RuntimeWarning: invalid value encountered in double_scalars\n",
      "  dist = 1.0 - np.dot(u, v) / (norm(u) * norm(v))\n"
     ]
    }
   ],
   "source": [
    "from scipy import spatial\n",
    "\n",
    "subs = len(cor_mat[:,0,0,0,0])\n",
    "sess = len(cor_mat[0,:,0,0,0])\n",
    "cond = len(cor_mat[0,0,:,0,0])\n",
    "\n",
    "M = np.zeros((subs * sess * cond, subs * sess * cond))\n",
    "i = 0\n",
    "j = 0\n",
    "\n",
    "for sub in range(subs):\n",
    "    for ses in range(sess):\n",
    "        for con in range(cond):\n",
    "            for subx in range(subs):\n",
    "                for sesx in range(sess):\n",
    "                    for conx in range(cond):\n",
    "                        A = upper_tri_masking(cor_mat[sub, ses, con, :, :])\n",
    "                        B = upper_tri_masking(cor_mat[subx, sesx, conx, :, :])\n",
    "                        similarity = 1 - spatial.distance.cosine(A, B)\n",
    "                        M[i,j] = similarity\n",
    "                        j += 1\n",
    "            i += 1\n",
    "            j = 0"
   ]
  },
  {
   "cell_type": "code",
   "execution_count": 291,
   "metadata": {},
   "outputs": [
    {
     "name": "stderr",
     "output_type": "stream",
     "text": [
      "/home/finc/anaconda/lib/python3.6/site-packages/scipy/spatial/distance.py:505: RuntimeWarning: invalid value encountered in double_scalars\n",
      "  dist = 1.0 - np.dot(u, v) / (norm(u) * norm(v))\n"
     ]
    }
   ],
   "source": [
    "from scipy import spatial\n",
    "\n",
    "subs = len(cor_mat[:,0,0,0,0])\n",
    "sess = len(cor_mat[0,:,0,0,0])\n",
    "cond = len(cor_mat[0,0,:,0,0])\n",
    "\n",
    "K = np.zeros((subs, sess * cond, sess * cond))\n",
    "\n",
    "i = 0\n",
    "j = 0\n",
    "\n",
    "for sub in range(subs):\n",
    "    for ses in range(sess):\n",
    "        for con in range(cond):\n",
    "            for sesx in range(sess):\n",
    "                for conx in range(cond):\n",
    "                    A = upper_tri_masking(cor_mat[sub, ses, con, :, :])\n",
    "                    B = upper_tri_masking(cor_mat[sub, sesx, conx, :, :])\n",
    "                    similarity = 1 - spatial.distance.cosine(A, B)\n",
    "                    K[sub, i, j] = similarity\n",
    "                    j += 1\n",
    "            i += 1\n",
    "            j = 0\n",
    "    i = 0\n"
   ]
  },
  {
   "cell_type": "code",
   "execution_count": 207,
   "metadata": {},
   "outputs": [
    {
     "data": {
      "text/plain": [
       "<matplotlib.image.AxesImage at 0x7f1b58dc7278>"
      ]
     },
     "execution_count": 207,
     "metadata": {},
     "output_type": "execute_result"
    },
    {
     "data": {
      "image/png": "[encoded data removed]",
      "text/plain": [
       "<matplotlib.figure.Figure at 0x7f1b58e42908>"
      ]
     },
     "metadata": {},
     "output_type": "display_data"
    }
   ],
   "source": [
    "plotting.plot_matrix(K[20,:,:])"
   ]
  },
  {
   "cell_type": "code",
   "execution_count": 211,
   "metadata": {},
   "outputs": [
    {
     "data": {
      "text/plain": [
       "<matplotlib.image.AxesImage at 0x7f1b58ba0ba8>"
      ]
     },
     "execution_count": 211,
     "metadata": {},
     "output_type": "execute_result"
    },
    {
     "data": {
      "image/png": "[encoded data removed]",
      "text/plain": [
       "<matplotlib.figure.Figure at 0x7f1b58bbacf8>"
      ]
     },
     "metadata": {},
     "output_type": "display_data"
    }
   ],
   "source": [
    "x = K.mean(axis = 0)\n",
    "x.shape\n",
    "\n",
    "plotting.plot_matrix(x)"
   ]
  },
  {
   "cell_type": "code",
   "execution_count": 292,
   "metadata": {},
   "outputs": [],
   "source": [
    "# Creating groups vectors\n",
    "\n",
    "groups = pd.read_csv('/home/finc/Dropbox/Projects/LearningBrain/github/LearningBrain_networks/data/behavioral/group_assignment.csv')\n",
    "\n",
    "trained = (groups.group == 'Experimental') | (groups.group == 'Control')\n",
    "trained_subs = groups[trained]\n",
    "\n",
    "experimental = (trained_subs == 'Experimental')\n",
    "control = (trained_subs == 'Control')\n",
    "\n",
    "exp_vector = experimental['group'].values\n",
    "con_vector = control['group'].values\n"
   ]
  },
  {
   "cell_type": "code",
   "execution_count": 293,
   "metadata": {},
   "outputs": [
    {
     "data": {
      "text/plain": [
       "<matplotlib.image.AxesImage at 0x7f1b57dcde80>"
      ]
     },
     "execution_count": 293,
     "metadata": {},
     "output_type": "execute_result"
    },
    {
     "data": {
      "image/png": "[encoded data removed]",
      "text/plain": [
       "<matplotlib.figure.Figure at 0x7f1b58ad7048>"
      ]
     },
     "metadata": {},
     "output_type": "display_data"
    }
   ],
   "source": [
    "experimental = K[exp_vector,:,:]\n",
    "control = K[con_vector,:,:]\n",
    "\n",
    "\n",
    "exp = experimental.mean(axis = 0)\n",
    "con = control.mean(axis = 0)\n",
    "\n",
    "plotting.plot_matrix(exp, cmap=\"viridis\")"
   ]
  },
  {
   "cell_type": "code",
   "execution_count": 294,
   "metadata": {},
   "outputs": [
    {
     "data": {
      "text/plain": [
       "<matplotlib.image.AxesImage at 0x7f1b57cf37f0>"
      ]
     },
     "execution_count": 294,
     "metadata": {},
     "output_type": "execute_result"
    },
    {
     "data": {
      "image/png": "[encoded data removed]",
      "text/plain": [
       "<matplotlib.figure.Figure at 0x7f1b57e03908>"
      ]
     },
     "metadata": {},
     "output_type": "display_data"
    }
   ],
   "source": [
    "plotting.plot_matrix(con, cmap=\"viridis\")"
   ]
  },
  {
   "cell_type": "code",
   "execution_count": 269,
   "metadata": {},
   "outputs": [
    {
     "data": {
      "text/plain": [
       "83"
      ]
     },
     "execution_count": 269,
     "metadata": {},
     "output_type": "execute_result"
    }
   ],
   "source": [
    "modules = pd.read_csv('/home/finc/Dropbox/Projects/LearningBrain/code/modules.txt', sep = \" \", header = None)\n",
    "\n",
    "mod = mod[0].values\n",
    "\n",
    "DMFP = (mod == 'DM')|(mod == 'FP')\n",
    "DM = (mod == 'DM')\n",
    "FP = (mod == 'FP')\n",
    "\n",
    "sum(DMFP)"
   ]
  },
  {
   "cell_type": "code",
   "execution_count": 276,
   "metadata": {},
   "outputs": [],
   "source": [
    "from scipy import spatial\n",
    "\n",
    "subs = len(cor_mat[:,0,0,0,0])\n",
    "sess = len(cor_mat[0,:,0,0,0])\n",
    "cond = len(cor_mat[0,0,:,0,0])\n",
    "\n",
    "K = np.zeros((subs, sess * cond, sess * cond))\n",
    "cor_mat = cor_mat[:,:,:,:,DMFP]\n",
    "cor_mat = cor_mat[:,:,:,DMFP,:]\n",
    "\n"
   ]
  },
  {
   "cell_type": "code",
   "execution_count": 277,
   "metadata": {},
   "outputs": [
    {
     "name": "stderr",
     "output_type": "stream",
     "text": [
      "/home/finc/anaconda/lib/python3.6/site-packages/scipy/spatial/distance.py:505: RuntimeWarning: invalid value encountered in double_scalars\n",
      "  dist = 1.0 - np.dot(u, v) / (norm(u) * norm(v))\n"
     ]
    }
   ],
   "source": [
    "K = np.zeros((subs, sess * cond, sess * cond))\n",
    "\n",
    "i = 0\n",
    "j = 0\n",
    "\n",
    "for sub in range(subs):\n",
    "    for ses in range(sess):\n",
    "        for con in range(cond):\n",
    "            for sesx in range(sess):\n",
    "                for conx in range(cond):\n",
    "                    A = upper_tri_masking(cor_mat[sub, ses, con, :, :])\n",
    "                    B = upper_tri_masking(cor_mat[sub, sesx, conx, :, :])\n",
    "                    similarity = 1 - spatial.distance.cosine(A, B)\n",
    "                    K[sub, i, j] = similarity\n",
    "                    j += 1\n",
    "            i += 1\n",
    "            j = 0\n",
    "    i = 0\n"
   ]
  },
  {
   "cell_type": "code",
   "execution_count": 289,
   "metadata": {},
   "outputs": [
    {
     "data": {
      "text/plain": [
       "<matplotlib.image.AxesImage at 0x7f1b57ea21d0>"
      ]
     },
     "execution_count": 289,
     "metadata": {},
     "output_type": "execute_result"
    },
    {
     "data": {
      "image/png": "[encoded data removed]",
      "text/plain": [
       "<matplotlib.figure.Figure at 0x7f1b58256048>"
      ]
     },
     "metadata": {},
     "output_type": "display_data"
    }
   ],
   "source": [
    "experimental = K[exp_vector,:,:]\n",
    "control = K[con_vector,:,:]\n",
    "\n",
    "\n",
    "exp = experimental.mean(axis = 0)\n",
    "con = control.mean(axis = 0)\n",
    "\n",
    "plotting.plot_matrix(exp, cmap=\"viridis\")"
   ]
  },
  {
   "cell_type": "code",
   "execution_count": 288,
   "metadata": {},
   "outputs": [
    {
     "data": {
      "text/plain": [
       "<matplotlib.image.AxesImage at 0x7f1b57eec860>"
      ]
     },
     "execution_count": 288,
     "metadata": {},
     "output_type": "execute_result"
    },
    {
     "data": {
      "image/png": "[encoded data removed]",
      "text/plain": [
       "<matplotlib.figure.Figure at 0x7f1b57f29fd0>"
      ]
     },
     "metadata": {},
     "output_type": "display_data"
    }
   ],
   "source": [
    "plotting.plot_matrix(con, cmap=\"viridis\")"
   ]
  }
 ],
 "metadata": {
  "kernelspec": {
   "display_name": "Python 3",
   "language": "python",
   "name": "python3"
  },
  "language_info": {
   "codemirror_mode": {
    "name": "ipython",
    "version": 3
   },
   "file_extension": ".py",
   "mimetype": "text/x-python",
   "name": "python",
   "nbconvert_exporter": "python",
   "pygments_lexer": "ipython3",
   "version": "3.6.3"
  }
 },
 "nbformat": 4,
 "nbformat_minor": 2
}
