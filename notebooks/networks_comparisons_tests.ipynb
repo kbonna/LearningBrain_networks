{
 "cells": [
  {
   "cell_type": "code",
   "execution_count": 3,
   "metadata": {},
   "outputs": [
    {
     "data": {
      "text/plain": [
       "(264, 264)"
      ]
     },
     "execution_count": 3,
     "metadata": {},
     "output_type": "execute_result"
    }
   ],
   "source": [
    "import pandas as pd\n",
    "import numpy as np\n",
    "from nilearn.connectome import sym_matrix_to_vec, vec_to_sym_matrix\n",
    "from nilearn.plotting import plot_matrix\n",
    "import matplotlib.pyplot as plt\n",
    "\n",
    "from scipy import stats\n",
    "\n",
    "data = np.load(\"/home/finc/Dropbox/Projects/LearningBrain/data/neuroimaging/LearningBrain_matrices_conn_style.npy\")\n",
    "dualnback = data[:,:,1:3,:,:]\n",
    "\n",
    "dualnback.shape\n",
    "\n",
    "x = dualnback[0,0,0,:,:]\n",
    "x.shape\n",
    "\n",
    "#np.save('/home/finc/Dropbox/Projects/LearningBrain/data/neuroimaging/test_matrix', x)\n"
   ]
  },
  {
   "cell_type": "code",
   "execution_count": 4,
   "metadata": {},
   "outputs": [
    {
     "data": {
      "text/plain": [
       "['sub-01', 'sub-02', 'sub-04', 'sub-05', 'sub-06']"
      ]
     },
     "execution_count": 4,
     "metadata": {},
     "output_type": "execute_result"
    }
   ],
   "source": [
    "# Selecting subjects which finished the study\n",
    "\n",
    "groups = pd.read_csv('/home/finc/Dropbox/Projects/LearningBrain/github/LearningBrain_networks/data/behavioral/group_assignment.csv')\n",
    "\n",
    "trained = (groups.group == 'Experimental') | (groups.group == 'Control')\n",
    "trained_subs = groups[trained]['sub']\n",
    "subs = pd.Series.tolist(trained_subs)\n",
    "subs[:5]"
   ]
  },
  {
   "cell_type": "code",
   "execution_count": 5,
   "metadata": {},
   "outputs": [],
   "source": [
    "# Selecting subjects to exclude\n",
    "\n",
    "# dualnback\n",
    "dualnback_exclude = ['sub-13', 'sub-21', 'sub-23', 'sub-50'] # higly motion subjects in one of four sessions\n",
    "rest_exclude = ['sub-20', 'sub-44', 'sub-21', 'sub-46', 'sub-47'] # higly motion subjects in one of four sessions / missing data(20-44)\n",
    "\n",
    "dual_vector = []\n",
    "rest_vector = []\n",
    "first_vector = np.array(subs) ==  'sub-21' # subject with highly motion on first session\n",
    "\n",
    "dual_vector = [False if sub in dualnback_exclude else True for sub in subs]\n",
    "rest_vector = [False if sub in rest_exclude else True for sub in subs]\n"
   ]
  },
  {
   "cell_type": "code",
   "execution_count": 6,
   "metadata": {},
   "outputs": [
    {
     "name": "stdout",
     "output_type": "stream",
     "text": [
      "21\n",
      "21\n"
     ]
    }
   ],
   "source": [
    "# Creating groups vectors\n",
    "\n",
    "groups = pd.read_csv('/home/finc/Dropbox/Projects/LearningBrain/github/LearningBrain_networks/data/behavioral/group_assignment.csv')\n",
    "\n",
    "trained = (groups.group == 'Experimental') | (groups.group == 'Control')\n",
    "trained_subs = groups[trained]\n",
    "\n",
    "experimental = (trained_subs == 'Experimental')\n",
    "control = (trained_subs == 'Control')\n",
    "\n",
    "exp_vector = experimental['group'].values * dual_vector\n",
    "con_vector = control['group'].values * dual_vector\n",
    "\n",
    "print(sum(exp_vector))\n",
    "print(sum(con_vector))"
   ]
  },
  {
   "cell_type": "code",
   "execution_count": 7,
   "metadata": {},
   "outputs": [
    {
     "data": {
      "text/plain": [
       "(264,)"
      ]
     },
     "execution_count": 7,
     "metadata": {},
     "output_type": "execute_result"
    }
   ],
   "source": [
    "modules = pd.read_csv('/home/finc/Dropbox/Projects/LearningBrain/code/modules.txt', sep = \" \", header = None)\n",
    "\n",
    "mod = modules[0].values\n",
    "\n",
    "DMFP = (mod == 'DM')|(mod == 'FP')\n",
    "DM = (mod == 'DM')\n",
    "FP = (mod == 'FP')\n",
    "\n",
    "DMFP.shape"
   ]
  },
  {
   "cell_type": "code",
   "execution_count": 9,
   "metadata": {},
   "outputs": [],
   "source": [
    "#dualnback = dualnback[:,:,:,:,DMFP]\n",
    "#dualnback = dualnback[:,:,:,DMFP,:]"
   ]
  },
  {
   "cell_type": "code",
   "execution_count": 11,
   "metadata": {},
   "outputs": [],
   "source": [
    "\n",
    "exp_dual_2back_1 = sym_matrix_to_vec(dualnback[:,3,0,:,:], discard_diagonal = True)\n",
    "exp_dual_2back_2 = sym_matrix_to_vec(dualnback[:,3,1,:,:], discard_diagonal = True)\n",
    "\n",
    "\n"
   ]
  },
  {
   "cell_type": "code",
   "execution_count": 12,
   "metadata": {},
   "outputs": [],
   "source": [
    "stat, pvalues = stats.ttest_rel(exp_dual_2back_1 , exp_dual_2back_2)"
   ]
  },
  {
   "cell_type": "code",
   "execution_count": 13,
   "metadata": {},
   "outputs": [],
   "source": [
    "import statsmodels.stats.multitest as ssm\n",
    "\n",
    "_, pvals_corrected, _, _ = ssm.multipletests(pvalues, alpha = 0.05, method = 'fdr_bh')\n",
    "pvals_corrected_thr = np.zeros((len(pvals_corrected)))\n",
    "\n",
    "pvals = np.array([0 if p >= 0.05 else 1 for p in pvals_corrected])"
   ]
  },
  {
   "cell_type": "code",
   "execution_count": 14,
   "metadata": {},
   "outputs": [
    {
     "data": {
      "text/plain": [
       "0"
      ]
     },
     "execution_count": 14,
     "metadata": {},
     "output_type": "execute_result"
    }
   ],
   "source": [
    "sum(pvals)\n",
    "\n",
    "sum(pvals)"
   ]
  },
  {
   "cell_type": "code",
   "execution_count": 99,
   "metadata": {},
   "outputs": [
    {
     "data": {
      "text/plain": [
       "array([ nan])"
      ]
     },
     "execution_count": 99,
     "metadata": {},
     "output_type": "execute_result"
    }
   ],
   "source": [
    "pvals_corrected"
   ]
  },
  {
   "cell_type": "code",
   "execution_count": 16,
   "metadata": {},
   "outputs": [],
   "source": [
    "wei_vector = stat * pvals "
   ]
  },
  {
   "cell_type": "code",
   "execution_count": 17,
   "metadata": {},
   "outputs": [
    {
     "ename": "ValueError",
     "evalue": "Vector of unsuitable shape (54780,) can not be transformed to a symmetric matrix.",
     "output_type": "error",
     "traceback": [
      "\u001b[0;31m---------------------------------------------------------------------------\u001b[0m",
      "\u001b[0;31mValueError\u001b[0m                                Traceback (most recent call last)",
      "\u001b[0;32m<ipython-input-17-326be9443747>\u001b[0m in \u001b[0;36m<module>\u001b[0;34m()\u001b[0m\n\u001b[1;32m      1\u001b[0m \u001b[0mdiag\u001b[0m \u001b[0;34m=\u001b[0m \u001b[0mnp\u001b[0m\u001b[0;34m.\u001b[0m\u001b[0mzeros\u001b[0m\u001b[0;34m(\u001b[0m\u001b[0;34m(\u001b[0m\u001b[0;36m264\u001b[0m\u001b[0;34m)\u001b[0m\u001b[0;34m)\u001b[0m\u001b[0;34m\u001b[0m\u001b[0m\n\u001b[0;32m----> 2\u001b[0;31m \u001b[0mmatrix\u001b[0m \u001b[0;34m=\u001b[0m \u001b[0mvec_to_sym_matrix\u001b[0m\u001b[0;34m(\u001b[0m\u001b[0mwei_vector\u001b[0m\u001b[0;34m,\u001b[0m \u001b[0mdiagonal\u001b[0m \u001b[0;34m=\u001b[0m \u001b[0mdiag\u001b[0m\u001b[0;34m)\u001b[0m\u001b[0;34m\u001b[0m\u001b[0m\n\u001b[0m\u001b[1;32m      3\u001b[0m \u001b[0;31m#matrix = vec_to_sym_matrix(pvals_corrected)\u001b[0m\u001b[0;34m\u001b[0m\u001b[0;34m\u001b[0m\u001b[0m\n\u001b[1;32m      4\u001b[0m \u001b[0;34m\u001b[0m\u001b[0m\n\u001b[1;32m      5\u001b[0m \u001b[0;34m\u001b[0m\u001b[0m\n",
      "\u001b[0;32m~/anaconda/lib/python3.6/site-packages/nilearn/connectome/connectivity_matrices.py\u001b[0m in \u001b[0;36mvec_to_sym_matrix\u001b[0;34m(vec, diagonal)\u001b[0m\n\u001b[1;32m    312\u001b[0m         raise ValueError(\n\u001b[1;32m    313\u001b[0m             \u001b[0;34m\"Vector of unsuitable shape {0} can not be transformed to \"\u001b[0m\u001b[0;34m\u001b[0m\u001b[0m\n\u001b[0;32m--> 314\u001b[0;31m             \"a symmetric matrix.\".format(vec.shape))\n\u001b[0m\u001b[1;32m    315\u001b[0m \u001b[0;34m\u001b[0m\u001b[0m\n\u001b[1;32m    316\u001b[0m     \u001b[0mn_columns\u001b[0m \u001b[0;34m=\u001b[0m \u001b[0mint\u001b[0m\u001b[0;34m(\u001b[0m\u001b[0mn_columns\u001b[0m\u001b[0;34m)\u001b[0m\u001b[0;34m\u001b[0m\u001b[0m\n",
      "\u001b[0;31mValueError\u001b[0m: Vector of unsuitable shape (54780,) can not be transformed to a symmetric matrix."
     ]
    }
   ],
   "source": [
    "diag = np.zeros((264))\n",
    "matrix = vec_to_sym_matrix(wei_vector, diagonal = diag)\n",
    "#matrix = vec_to_sym_matrix(pvals_corrected)\n",
    "\n",
    "\n",
    "matrix_bin = vec_to_sym_matrix(pvals, diagonal = diag)"
   ]
  },
  {
   "cell_type": "code",
   "execution_count": null,
   "metadata": {},
   "outputs": [],
   "source": [
    "matrix.shape"
   ]
  },
  {
   "cell_type": "code",
   "execution_count": null,
   "metadata": {},
   "outputs": [],
   "source": [
    "plot_matrix(matrix)"
   ]
  },
  {
   "cell_type": "code",
   "execution_count": null,
   "metadata": {},
   "outputs": [],
   "source": [
    "thr_matrix = ((matrix >= 4.5) | (matrix <= -4.5)) * matrix\n",
    "\n",
    "thr_matrix.shape"
   ]
  },
  {
   "cell_type": "code",
   "execution_count": null,
   "metadata": {},
   "outputs": [],
   "source": [
    "from nilearn import datasets # for fetching atlas\n",
    "from nilearn import plotting\n",
    "\n",
    "# Loading Power ROIs coordinates\n",
    "\n",
    "power = datasets.fetch_coords_power_2011()\n",
    "power_coords = np.vstack((power.rois['x'], power.rois['y'], power.rois['z'])).T"
   ]
  },
  {
   "cell_type": "code",
   "execution_count": null,
   "metadata": {},
   "outputs": [],
   "source": [
    "plotting.plot_connectome(thr_matrix, power_coords)#edge_vmin = -6, edge_vmax = 6)"
   ]
  }
 ],
 "metadata": {
  "kernelspec": {
   "display_name": "Python 3",
   "language": "python",
   "name": "python3"
  },
  "language_info": {
   "codemirror_mode": {
    "name": "ipython",
    "version": 3
   },
   "file_extension": ".py",
   "mimetype": "text/x-python",
   "name": "python",
   "nbconvert_exporter": "python",
   "pygments_lexer": "ipython3",
   "version": "3.6.3"
  }
 },
 "nbformat": 4,
 "nbformat_minor": 2
}
