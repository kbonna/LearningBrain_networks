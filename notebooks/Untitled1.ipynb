{
 "cells": [
  {
   "cell_type": "code",
   "execution_count": 1,
   "metadata": {},
   "outputs": [],
   "source": [
    "import bct"
   ]
  },
  {
   "cell_type": "code",
   "execution_count": 2,
   "metadata": {},
   "outputs": [
    {
     "data": {
      "text/plain": [
       "\u001b[0;31mSignature:\u001b[0m \u001b[0mbct\u001b[0m\u001b[0;34m.\u001b[0m\u001b[0mcommunity_louvain\u001b[0m\u001b[0;34m(\u001b[0m\u001b[0mW\u001b[0m\u001b[0;34m,\u001b[0m \u001b[0mgamma\u001b[0m\u001b[0;34m=\u001b[0m\u001b[0;36m1\u001b[0m\u001b[0;34m,\u001b[0m \u001b[0mci\u001b[0m\u001b[0;34m=\u001b[0m\u001b[0;32mNone\u001b[0m\u001b[0;34m,\u001b[0m \u001b[0mB\u001b[0m\u001b[0;34m=\u001b[0m\u001b[0;34m'modularity'\u001b[0m\u001b[0;34m,\u001b[0m \u001b[0mseed\u001b[0m\u001b[0;34m=\u001b[0m\u001b[0;32mNone\u001b[0m\u001b[0;34m)\u001b[0m\u001b[0;34m\u001b[0m\u001b[0m\n",
       "\u001b[0;31mDocstring:\u001b[0m\n",
       "The optimal community structure is a subdivision of the network into\n",
       "nonoverlapping groups of nodes which maximizes the number of within-group\n",
       "edges and minimizes the number of between-group edges.\n",
       "\n",
       "This function is a fast an accurate multi-iterative generalization of the\n",
       "louvain community detection algorithm. This function subsumes and improves\n",
       "upon modularity_[louvain,finetune]_[und,dir]() and additionally allows to\n",
       "optimize other objective functions (includes built-in Potts Model i\n",
       "Hamiltonian, allows for custom objective-function matrices).\n",
       "\n",
       "Parameters\n",
       "----------\n",
       "W : NxN np.array\n",
       "    directed/undirected weighted/binary adjacency matrix\n",
       "gamma : float\n",
       "    resolution parameter. default value=1. Values 0 <= gamma < 1 detect\n",
       "    larger modules while gamma > 1 detects smaller modules.\n",
       "    ignored if an objective function matrix is specified.\n",
       "ci : Nx1 np.arraylike\n",
       "    initial community affiliation vector. default value=None\n",
       "B : str | NxN np.arraylike\n",
       "    string describing objective function type, or provides a custom\n",
       "    NxN objective-function matrix. builtin values \n",
       "        'modularity' uses Q-metric as objective function\n",
       "        'potts' uses Potts model Hamiltonian.\n",
       "        'negative_sym' symmetric treatment of negative weights\n",
       "        'negative_asym' asymmetric treatment of negative weights\n",
       "seed : int | None\n",
       "    random seed. default value=None. if None, seeds from /dev/urandom.\n",
       "\n",
       "Returns\n",
       "-------\n",
       "ci : Nx1 np.array\n",
       "    final community structure\n",
       "q : float\n",
       "    optimized q-statistic (modularity only)\n",
       "\u001b[0;31mFile:\u001b[0m      ~/anaconda/lib/python3.6/site-packages/bct/algorithms/modularity.py\n",
       "\u001b[0;31mType:\u001b[0m      function\n"
      ]
     },
     "metadata": {},
     "output_type": "display_data"
    }
   ],
   "source": [
    "bct.community_louvain?"
   ]
  }
 ],
 "metadata": {
  "kernelspec": {
   "display_name": "Python 3",
   "language": "python",
   "name": "python3"
  },
  "language_info": {
   "codemirror_mode": {
    "name": "ipython",
    "version": 3
   },
   "file_extension": ".py",
   "mimetype": "text/x-python",
   "name": "python",
   "nbconvert_exporter": "python",
   "pygments_lexer": "ipython3",
   "version": "3.6.3"
  }
 },
 "nbformat": 4,
 "nbformat_minor": 2
}
