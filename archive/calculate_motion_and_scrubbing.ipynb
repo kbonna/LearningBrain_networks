{
 "cells": [
  {
   "cell_type": "code",
   "execution_count": 4,
   "metadata": {},
   "outputs": [],
   "source": [
    "import pandas as pd\n",
    "import numpy as np\n",
    "from os import listdir\n",
    "import os\n",
    "from glob import glob\n",
    "from fctools import denoise"
   ]
  },
  {
   "cell_type": "code",
   "execution_count": 2,
   "metadata": {},
   "outputs": [],
   "source": [
    "top_dir = '/media/finc/Elements/LearningBrain_fmriprep/'"
   ]
  },
  {
   "cell_type": "code",
   "execution_count": 5,
   "metadata": {},
   "outputs": [],
   "source": [
    "sess = ['ses-1', 'ses-2', 'ses-3', 'ses-4']\n",
    "tasks = ['rest', 'dualnback']\n",
    "subs = sorted([name for name in os.listdir(top_dir) if os.path.isdir(os.path.join(top_dir, name))])"
   ]
  },
  {
   "cell_type": "code",
   "execution_count": 6,
   "metadata": {},
   "outputs": [
    {
     "name": "stdout",
     "output_type": "stream",
     "text": [
      "sub-03 ses-2 rest does not exist\n",
      "sub-03 ses-2 dualnback does not exist\n",
      "sub-03 ses-3 rest does not exist\n",
      "sub-03 ses-3 dualnback does not exist\n",
      "sub-03 ses-4 rest does not exist\n",
      "sub-03 ses-4 dualnback does not exist\n",
      "sub-09 ses-2 rest does not exist\n",
      "sub-09 ses-2 dualnback does not exist\n",
      "sub-09 ses-3 rest does not exist\n",
      "sub-09 ses-3 dualnback does not exist\n",
      "sub-09 ses-4 rest does not exist\n",
      "sub-09 ses-4 dualnback does not exist\n",
      "sub-17 ses-3 rest does not exist\n",
      "sub-17 ses-3 dualnback does not exist\n",
      "sub-17 ses-4 rest does not exist\n",
      "sub-17 ses-4 dualnback does not exist\n",
      "sub-20 ses-2 rest does not exist\n",
      "sub-22 ses-2 rest does not exist\n",
      "sub-22 ses-2 dualnback does not exist\n",
      "sub-22 ses-3 rest does not exist\n",
      "sub-22 ses-3 dualnback does not exist\n",
      "sub-22 ses-4 rest does not exist\n",
      "sub-22 ses-4 dualnback does not exist\n",
      "sub-31 ses-2 rest does not exist\n",
      "sub-31 ses-2 dualnback does not exist\n",
      "sub-31 ses-3 rest does not exist\n",
      "sub-31 ses-3 dualnback does not exist\n",
      "sub-31 ses-4 rest does not exist\n",
      "sub-31 ses-4 dualnback does not exist\n",
      "sub-32 ses-2 rest does not exist\n",
      "sub-32 ses-2 dualnback does not exist\n",
      "sub-32 ses-3 rest does not exist\n",
      "sub-32 ses-3 dualnback does not exist\n",
      "sub-32 ses-4 rest does not exist\n",
      "sub-32 ses-4 dualnback does not exist\n",
      "sub-34 ses-2 rest does not exist\n",
      "sub-34 ses-2 dualnback does not exist\n",
      "sub-34 ses-3 rest does not exist\n",
      "sub-34 ses-3 dualnback does not exist\n",
      "sub-34 ses-4 rest does not exist\n",
      "sub-34 ses-4 dualnback does not exist\n",
      "sub-44 ses-2 rest does not exist\n"
     ]
    }
   ],
   "source": [
    "for sub in range(len(subs)):\n",
    "    for ses in range(len(sess)):\n",
    "        for task in range(len(tasks)):\n",
    "            \n",
    "            sub_dir = top_dir + subs[sub] + '/' + sess[ses] + '/func/'\n",
    "            sub_name = subs[sub] + '_' + sess[ses] + '_task-' + tasks[task] \n",
    "            \n",
    "            # Loading confound data\n",
    "            confounds_path = sub_dir + subs[sub] + '_' + sess[ses] + '_task-' + tasks[task] + '_bold_confounds.tsv'\n",
    "            \n",
    "            if not os.path.exists(confounds_path):\n",
    "                print(f\"{subs[sub]} {sess[ses]} {tasks[task]} does not exist\")\n",
    "            else:\n",
    "                # Loading confound data\n",
    "                confounds_path = sub_dir + subs[sub] + '_' + sess[ses] + '_task-' + tasks[task] + '_bold_confounds.tsv'\n",
    "\n",
    "                confounds = pd.read_csv(confounds_path, delimiter = '\\t')\n",
    "                #confounds.to_csv(out_dir + 'confounds/' + sub_name + '_bold_confounds.csv', sep = ',', index = False)\n",
    "\n",
    "                # Select columns of interest \n",
    "                confounds_motion = confounds[confounds.filter(regex = 'X|Y|Z|RotX|RotY|RotZ').columns].values\n",
    "                                \n",
    "                np.savetxt(sub_dir + sub_name + '_6_motion_parameters.txt', confounds_motion)"
   ]
  },
  {
   "cell_type": "code",
   "execution_count": 1,
   "metadata": {},
   "outputs": [
    {
     "ename": "NameError",
     "evalue": "name 'subs' is not defined",
     "output_type": "error",
     "traceback": [
      "\u001b[0;31m---------------------------------------------------------------------------\u001b[0m",
      "\u001b[0;31mNameError\u001b[0m                                 Traceback (most recent call last)",
      "\u001b[0;32m<ipython-input-1-9977424fd9f2>\u001b[0m in \u001b[0;36m<module>\u001b[0;34m()\u001b[0m\n\u001b[0;32m----> 1\u001b[0;31m \u001b[0;32mfor\u001b[0m \u001b[0msub\u001b[0m \u001b[0;32min\u001b[0m \u001b[0mrange\u001b[0m\u001b[0;34m(\u001b[0m\u001b[0mlen\u001b[0m\u001b[0;34m(\u001b[0m\u001b[0msubs\u001b[0m\u001b[0;34m)\u001b[0m\u001b[0;34m)\u001b[0m\u001b[0;34m:\u001b[0m\u001b[0;34m\u001b[0m\u001b[0m\n\u001b[0m\u001b[1;32m      2\u001b[0m     \u001b[0;32mfor\u001b[0m \u001b[0mses\u001b[0m \u001b[0;32min\u001b[0m \u001b[0mrange\u001b[0m\u001b[0;34m(\u001b[0m\u001b[0mlen\u001b[0m\u001b[0;34m(\u001b[0m\u001b[0msess\u001b[0m\u001b[0;34m)\u001b[0m\u001b[0;34m)\u001b[0m\u001b[0;34m:\u001b[0m\u001b[0;34m\u001b[0m\u001b[0m\n\u001b[1;32m      3\u001b[0m         \u001b[0;32mfor\u001b[0m \u001b[0mtask\u001b[0m \u001b[0;32min\u001b[0m \u001b[0mrange\u001b[0m\u001b[0;34m(\u001b[0m\u001b[0mlen\u001b[0m\u001b[0;34m(\u001b[0m\u001b[0mtasks\u001b[0m\u001b[0;34m)\u001b[0m\u001b[0;34m)\u001b[0m\u001b[0;34m:\u001b[0m\u001b[0;34m\u001b[0m\u001b[0m\n\u001b[1;32m      4\u001b[0m \u001b[0;34m\u001b[0m\u001b[0m\n\u001b[1;32m      5\u001b[0m             \u001b[0msub_dir\u001b[0m \u001b[0;34m=\u001b[0m \u001b[0mtop_dir\u001b[0m \u001b[0;34m+\u001b[0m \u001b[0msubs\u001b[0m\u001b[0;34m[\u001b[0m\u001b[0msub\u001b[0m\u001b[0;34m]\u001b[0m \u001b[0;34m+\u001b[0m \u001b[0;34m'/'\u001b[0m \u001b[0;34m+\u001b[0m \u001b[0msess\u001b[0m\u001b[0;34m[\u001b[0m\u001b[0mses\u001b[0m\u001b[0;34m]\u001b[0m \u001b[0;34m+\u001b[0m \u001b[0;34m'/func/'\u001b[0m\u001b[0;34m\u001b[0m\u001b[0m\n",
      "\u001b[0;31mNameError\u001b[0m: name 'subs' is not defined"
     ]
    }
   ],
   "source": [
    "for sub in range(len(subs)):\n",
    "    for ses in range(len(sess)):\n",
    "        for task in range(len(tasks)):\n",
    "            \n",
    "            sub_dir = top_dir + subs[sub] + '/' + sess[ses] + '/func/'\n",
    "            sub_name = subs[sub] + '_' + sess[ses] + '_task-' + tasks[task] \n",
    "            \n",
    "            # Loading confound data\n",
    "            confounds_path = sub_dir + subs[sub] + '_' + sess[ses] + '_task-' + tasks[task] + '_bold_confounds.tsv'\n",
    "            \n",
    "            if not os.path.exists(confounds_path):\n",
    "                print(f\"{subs[sub]} {sess[ses]} {tasks[task]} does not exist\")\n",
    "            else:\n",
    "                # Loading confound data\n",
    "                confounds_path = sub_dir + subs[sub] + '_' + sess[ses] + '_task-' + tasks[task] + '_bold_confounds.tsv'\n",
    "\n",
    "                confounds = pd.read_csv(confounds_path, delimiter = '\\t')\n",
    "                #confounds.to_csv(out_dir + 'confounds/' + sub_name + '_bold_confounds.csv', sep = ',', index = False)\n",
    "\n",
    "                # Select columns of interest \n",
    "                confounds_fd =  confounds[confounds.filter(regex = 'Framewise').columns]\n",
    "\n",
    "                # Detect outliers \n",
    "                #confounds_scrub = denoise.scrubbing(confounds_fd, before = False, after = False)                                \n",
    "                \n",
    "                confounds_scrub = denoise.outliers_fd_dvars(confounds_scrub, fd = 0.5, dvars = 3)\n",
    "                np.savetxt(sub_dir + sub_name + '_scrubbing_0_05.txt', confounds_scrub.values)"
   ]
  },
  {
   "cell_type": "code",
   "execution_count": 36,
   "metadata": {},
   "outputs": [],
   "source": []
  },
  {
   "cell_type": "code",
   "execution_count": 38,
   "metadata": {},
   "outputs": [
    {
     "data": {
      "text/plain": [
       "53"
      ]
     },
     "execution_count": 38,
     "metadata": {},
     "output_type": "execute_result"
    }
   ],
   "source": []
  }
 ],
 "metadata": {
  "kernelspec": {
   "display_name": "Python 3",
   "language": "python",
   "name": "python3"
  },
  "language_info": {
   "codemirror_mode": {
    "name": "ipython",
    "version": 3
   },
   "file_extension": ".py",
   "mimetype": "text/x-python",
   "name": "python",
   "nbconvert_exporter": "python",
   "pygments_lexer": "ipython3",
   "version": "3.6.3"
  }
 },
 "nbformat": 4,
 "nbformat_minor": 2
}
